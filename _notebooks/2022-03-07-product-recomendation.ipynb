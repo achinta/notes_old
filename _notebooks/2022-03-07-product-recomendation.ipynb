{
 "cells": [
  {
   "cell_type": "markdown",
   "id": "1833d498-2422-4ef6-8c4e-767d9f791941",
   "metadata": {},
   "source": [
    "# Satender Product Recommendation\n",
    "> From SVD to Deep Learning\n",
    " - layout: post\n",
    " - toc: false\n",
    " - comments: false\n",
    " - hide: false\n",
    " - search_exclude: true\n",
    " - categories: [recsys]\n",
    " - use_math: true"
   ]
  },
  {
   "cell_type": "code",
   "execution_count": 1,
   "id": "0438fead-ee3d-4e1f-9d44-50ea0a4b8a40",
   "metadata": {},
   "outputs": [
    {
     "name": "stdout",
     "output_type": "stream",
     "text": [
      "total 2.7G\n",
      "-rw-r--r-- 1 achinta achinta 106M Oct 27  2016 test_ver2.csv\n",
      "-rwxrwxrwx 1 achinta achinta 2.2G Oct 27  2016 train_ver2.csv\n",
      "-rw-rw-r-- 1 achinta achinta  13M Dec 11  2019 test_ver2.csv.zip\n",
      "-rw-rw-r-- 1 achinta achinta 2.3M Dec 11  2019 sample_submission.csv.zip\n",
      "-rw-rw-r-- 1 achinta achinta 215M Dec 11  2019 train_ver2.csv.zip\n",
      "-rw-rw-r-- 1 achinta achinta 229M Mar  7 10:30 santander-product-recommendation.zip\n"
     ]
    }
   ],
   "source": [
    "# Download the data\n",
    "#!kaggle competitions download -c santander-product-recommendation\n",
    "#!mv santander-product-recommendation.zip data/\n",
    "# !cd data;unzip santander-product-recommendation.zip;unzip train_ver2.csv.zip;unzip test_ver2.csv.zip\n",
    "!ls -lrth data"
   ]
  },
  {
   "cell_type": "code",
   "execution_count": 2,
   "id": "57c01482-2568-48f7-95b1-81d45bd4ddaf",
   "metadata": {},
   "outputs": [
    {
     "name": "stdout",
     "output_type": "stream",
     "text": [
      "13647310 data/train_ver2.csv\n"
     ]
    }
   ],
   "source": [
    "! wc -l data/train_ver2.csv"
   ]
  },
  {
   "cell_type": "markdown",
   "id": "a0506a97-df77-4a88-8cf2-154b2a495c93",
   "metadata": {},
   "source": [
    "So we have 13.6M rows in the training dataset"
   ]
  },
  {
   "cell_type": "markdown",
   "id": "43df85a8-a71c-43b8-b1b7-f636a5052c65",
   "metadata": {},
   "source": [
    "### SVD"
   ]
  },
  {
   "cell_type": "code",
   "execution_count": 3,
   "id": "adcff293-f83f-4c3b-8cc4-37d14dd404a7",
   "metadata": {},
   "outputs": [],
   "source": [
    "import numpy as np\n",
    "import pandas as pd\n",
    "from scipy.linalg import sqrtm\n",
    "from copy import deepcopy"
   ]
  },
  {
   "cell_type": "code",
   "execution_count": 4,
   "id": "99905cd7-47fe-479f-ac76-19db4c320591",
   "metadata": {},
   "outputs": [
    {
     "name": "stdout",
     "output_type": "stream",
     "text": [
      "columns- Index(['fecha_dato', 'ncodpers', 'ind_empleado', 'pais_residencia', 'sexo',\n",
      "       'age', 'fecha_alta', 'ind_nuevo', 'antiguedad', 'indrel',\n",
      "       'ult_fec_cli_1t', 'indrel_1mes', 'tiprel_1mes', 'indresi', 'indext',\n",
      "       'conyuemp', 'canal_entrada', 'indfall', 'tipodom', 'cod_prov',\n",
      "       'nomprov', 'ind_actividad_cliente', 'renta', 'segmento',\n",
      "       'ind_ahor_fin_ult1', 'ind_aval_fin_ult1', 'ind_cco_fin_ult1',\n",
      "       'ind_cder_fin_ult1', 'ind_cno_fin_ult1', 'ind_ctju_fin_ult1',\n",
      "       'ind_ctma_fin_ult1', 'ind_ctop_fin_ult1', 'ind_ctpp_fin_ult1',\n",
      "       'ind_deco_fin_ult1', 'ind_deme_fin_ult1', 'ind_dela_fin_ult1',\n",
      "       'ind_ecue_fin_ult1', 'ind_fond_fin_ult1', 'ind_hip_fin_ult1',\n",
      "       'ind_plan_fin_ult1', 'ind_pres_fin_ult1', 'ind_reca_fin_ult1',\n",
      "       'ind_tjcr_fin_ult1', 'ind_valo_fin_ult1', 'ind_viv_fin_ult1',\n",
      "       'ind_nomina_ult1', 'ind_nom_pens_ult1', 'ind_recibo_ult1'],\n",
      "      dtype='object')\n"
     ]
    }
   ],
   "source": [
    "train_10k = pd.read_csv('data/train_ver2.csv', nrows=10000)\n",
    "print(f'columns- {train_10k.columns}')"
   ]
  },
  {
   "cell_type": "markdown",
   "id": "6b895822-2217-48ec-8f9f-398fe1ca4c3f",
   "metadata": {},
   "source": [
    "Here are the columns we will be using in the SVD approach. We are ignoring the categorical features. (I am not sure if they can be used in SVD)\n",
    "\n",
    "| Column         | Description                                     |\n",
    "|----------------|-------------------------------------------------|\n",
    "| fetcha_dato    | Month of Purchase                               |\n",
    "| nocdepers      | Custmomer Code                                  |\n",
    "| ind__(xyz)__ult1 | Products on which we have to predict sales upon |\n",
    "|                |                                                 |\n",
    "|                |                                                 |"
   ]
  },
  {
   "cell_type": "code",
   "execution_count": 13,
   "id": "44a34772-d988-4a5d-a457-3c354d6e1009",
   "metadata": {},
   "outputs": [
    {
     "name": "stdout",
     "output_type": "stream",
     "text": [
      "train data has 13.647309M rows\n",
      "test  data has 929.615K rows\n",
      "train months ['2015-01-28', '2015-02-28', '2015-03-28', '2015-04-28', '2015-05-28', '2015-06-28', '2015-07-28', '2015-08-28', '2015-09-28', '2015-10-28', '2015-11-28', '2015-12-28', '2016-01-28', '2016-02-28', '2016-03-28', '2016-04-28', '2016-05-28']\n",
      "test months ['2016-06-28']\n",
      "CPU times: user 11.6 s, sys: 676 ms, total: 12.3 s\n",
      "Wall time: 12.3 s\n"
     ]
    }
   ],
   "source": [
    "%%time\n",
    "train_dates = pd.read_csv(f'data/train_ver2.csv', usecols=['fecha_dato'])\n",
    "test_dates = pd.read_csv(f'data/test_ver2.csv', usecols=['fecha_dato'])\n",
    "print(f'train data has {train_dates.shape[0]/1e6}M rows')\n",
    "print(f'test  data has {test_dates.shape[0]/1e3}K rows')\n",
    "\n",
    "print(f'train months {sorted(train_dates.fecha_dato.unique())}')\n",
    "print(f'test months {sorted(test_dates.fecha_dato.unique())}')"
   ]
  },
  {
   "cell_type": "code",
   "execution_count": 15,
   "id": "8b8d24d3-e948-40fb-83e8-91467a00e89a",
   "metadata": {},
   "outputs": [
    {
     "data": {
      "text/html": [
       "<div>\n",
       "<style scoped>\n",
       "    .dataframe tbody tr th:only-of-type {\n",
       "        vertical-align: middle;\n",
       "    }\n",
       "\n",
       "    .dataframe tbody tr th {\n",
       "        vertical-align: top;\n",
       "    }\n",
       "\n",
       "    .dataframe thead th {\n",
       "        text-align: right;\n",
       "    }\n",
       "</style>\n",
       "<table border=\"1\" class=\"dataframe\">\n",
       "  <thead>\n",
       "    <tr style=\"text-align: right;\">\n",
       "      <th></th>\n",
       "      <th>fecha_dato</th>\n",
       "      <th>ncodpers</th>\n",
       "      <th>ind_empleado</th>\n",
       "      <th>pais_residencia</th>\n",
       "      <th>sexo</th>\n",
       "      <th>age</th>\n",
       "      <th>fecha_alta</th>\n",
       "      <th>ind_nuevo</th>\n",
       "      <th>antiguedad</th>\n",
       "      <th>indrel</th>\n",
       "      <th>...</th>\n",
       "      <th>ind_hip_fin_ult1</th>\n",
       "      <th>ind_plan_fin_ult1</th>\n",
       "      <th>ind_pres_fin_ult1</th>\n",
       "      <th>ind_reca_fin_ult1</th>\n",
       "      <th>ind_tjcr_fin_ult1</th>\n",
       "      <th>ind_valo_fin_ult1</th>\n",
       "      <th>ind_viv_fin_ult1</th>\n",
       "      <th>ind_nomina_ult1</th>\n",
       "      <th>ind_nom_pens_ult1</th>\n",
       "      <th>ind_recibo_ult1</th>\n",
       "    </tr>\n",
       "  </thead>\n",
       "  <tbody>\n",
       "    <tr>\n",
       "      <th>0</th>\n",
       "      <td>2015-01-28</td>\n",
       "      <td>1375586</td>\n",
       "      <td>N</td>\n",
       "      <td>ES</td>\n",
       "      <td>H</td>\n",
       "      <td>35</td>\n",
       "      <td>2015-01-12</td>\n",
       "      <td>0.0</td>\n",
       "      <td>6</td>\n",
       "      <td>1.0</td>\n",
       "      <td>...</td>\n",
       "      <td>0</td>\n",
       "      <td>0</td>\n",
       "      <td>0</td>\n",
       "      <td>0</td>\n",
       "      <td>0</td>\n",
       "      <td>0</td>\n",
       "      <td>0</td>\n",
       "      <td>0.0</td>\n",
       "      <td>0.0</td>\n",
       "      <td>0</td>\n",
       "    </tr>\n",
       "    <tr>\n",
       "      <th>1</th>\n",
       "      <td>2015-01-28</td>\n",
       "      <td>1050611</td>\n",
       "      <td>N</td>\n",
       "      <td>ES</td>\n",
       "      <td>V</td>\n",
       "      <td>23</td>\n",
       "      <td>2012-08-10</td>\n",
       "      <td>0.0</td>\n",
       "      <td>35</td>\n",
       "      <td>1.0</td>\n",
       "      <td>...</td>\n",
       "      <td>0</td>\n",
       "      <td>0</td>\n",
       "      <td>0</td>\n",
       "      <td>0</td>\n",
       "      <td>0</td>\n",
       "      <td>0</td>\n",
       "      <td>0</td>\n",
       "      <td>0.0</td>\n",
       "      <td>0.0</td>\n",
       "      <td>0</td>\n",
       "    </tr>\n",
       "  </tbody>\n",
       "</table>\n",
       "<p>2 rows × 48 columns</p>\n",
       "</div>"
      ],
      "text/plain": [
       "   fecha_dato  ncodpers ind_empleado pais_residencia sexo  age  fecha_alta  \\\n",
       "0  2015-01-28   1375586            N              ES    H   35  2015-01-12   \n",
       "1  2015-01-28   1050611            N              ES    V   23  2012-08-10   \n",
       "\n",
       "   ind_nuevo antiguedad  indrel  ... ind_hip_fin_ult1  ind_plan_fin_ult1  \\\n",
       "0        0.0          6     1.0  ...                0                  0   \n",
       "1        0.0         35     1.0  ...                0                  0   \n",
       "\n",
       "  ind_pres_fin_ult1 ind_reca_fin_ult1 ind_tjcr_fin_ult1  ind_valo_fin_ult1  \\\n",
       "0                 0                 0                 0                  0   \n",
       "1                 0                 0                 0                  0   \n",
       "\n",
       "  ind_viv_fin_ult1 ind_nomina_ult1  ind_nom_pens_ult1  ind_recibo_ult1  \n",
       "0                0             0.0                0.0                0  \n",
       "1                0             0.0                0.0                0  \n",
       "\n",
       "[2 rows x 48 columns]"
      ]
     },
     "execution_count": 15,
     "metadata": {},
     "output_type": "execute_result"
    }
   ],
   "source": [
    "train_10k.head(2)"
   ]
  },
  {
   "cell_type": "code",
   "execution_count": 18,
   "id": "aab35248-5fe9-4c5b-9262-e94348f9b5b8",
   "metadata": {},
   "outputs": [],
   "source": [
    "svd_cols = ['fecha_dato', 'ncodpers', 'ind_ahor_fin_ult1', 'ind_aval_fin_ult1', 'ind_cco_fin_ult1','ind_cder_fin_ult1', 'ind_cno_fin_ult1', 'ind_ctju_fin_ult1',\n",
    "       'ind_ctma_fin_ult1', 'ind_ctop_fin_ult1', 'ind_ctpp_fin_ult1','ind_deco_fin_ult1', 'ind_deme_fin_ult1', 'ind_dela_fin_ult1','ind_ecue_fin_ult1', 'ind_fond_fin_ult1', 'ind_hip_fin_ult1',\n",
    "       'ind_plan_fin_ult1', 'ind_pres_fin_ult1', 'ind_reca_fin_ult1','ind_tjcr_fin_ult1', 'ind_valo_fin_ult1', 'ind_viv_fin_ult1','ind_nomina_ult1', 'ind_nom_pens_ult1', 'ind_recibo_ult1']"
   ]
  },
  {
   "cell_type": "code",
   "execution_count": null,
   "id": "195eac5a-ac95-423b-967f-d46f4510607e",
   "metadata": {},
   "outputs": [],
   "source": [
    "%%time\n",
    "train = pd.read_csv('data/train_ver2.csv', usecols=svd_cols)\n",
    "print(f'train.shape - {train.shape}')"
   ]
  },
  {
   "cell_type": "code",
   "execution_count": 63,
   "id": "b286e028-967c-473c-864b-7d8af04beaf1",
   "metadata": {},
   "outputs": [
    {
     "name": "stdout",
     "output_type": "stream",
     "text": [
      "train1.shape - (625457, 25) and true.shape - (625457, 25)\n",
      "CPU times: user 695 ms, sys: 163 ms, total: 858 ms\n",
      "Wall time: 851 ms\n"
     ]
    }
   ],
   "source": [
    "%%time\n",
    "\n",
    "#read one month of data\n",
    "train1 = train[train.fecha_dato == '2015-01-28'].drop('fecha_dato', axis=1).copy()\n",
    "print(f'train1.shape - {train1.shape} and true.shape - {true.shape}')"
   ]
  },
  {
   "cell_type": "code",
   "execution_count": 64,
   "id": "dac5e3d8-12c5-4500-a469-8f0a9c840e04",
   "metadata": {},
   "outputs": [
    {
     "name": "stdout",
     "output_type": "stream",
     "text": [
      "['ind_ahor_fin_ult1', 'ind_aval_fin_ult1', 'ind_cco_fin_ult1', 'ind_cder_fin_ult1', 'ind_cno_fin_ult1', 'ind_ctju_fin_ult1', 'ind_ctma_fin_ult1', 'ind_ctop_fin_ult1', 'ind_ctpp_fin_ult1', 'ind_deco_fin_ult1', 'ind_deme_fin_ult1', 'ind_dela_fin_ult1', 'ind_ecue_fin_ult1', 'ind_fond_fin_ult1', 'ind_hip_fin_ult1', 'ind_plan_fin_ult1', 'ind_pres_fin_ult1', 'ind_reca_fin_ult1', 'ind_tjcr_fin_ult1', 'ind_valo_fin_ult1', 'ind_viv_fin_ult1', 'ind_nomina_ult1', 'ind_nom_pens_ult1', 'ind_recibo_ult1']\n"
     ]
    }
   ],
   "source": [
    "users = true['ncodpers'].tolist()\n",
    "true.drop('ncodpers', axis=1, inplace=True)\n",
    "\n",
    "items = true.columns.tolist()\n",
    "print(items)\n",
    "\n",
    "u = {}\n",
    "for i in range(len(users)):\n",
    "    u[users[i]] = i"
   ]
  },
  {
   "cell_type": "code",
   "execution_count": 65,
   "id": "28684a6b-16e0-48e9-908e-41f70ba5c0c4",
   "metadata": {},
   "outputs": [],
   "source": [
    "trueMat = np.array(true)"
   ]
  },
  {
   "cell_type": "code",
   "execution_count": 66,
   "id": "a3321fb7-776f-4815-88a5-07a31ba21571",
   "metadata": {},
   "outputs": [
    {
     "name": "stdout",
     "output_type": "stream",
     "text": [
      "13647309\n"
     ]
    }
   ],
   "source": [
    "users = train['ncodpers'].tolist()\n",
    "print(len(users))\n",
    "u = {}"
   ]
  },
  {
   "cell_type": "code",
   "execution_count": 67,
   "id": "21ab80ef-243a-46e0-82e3-854b1717bf56",
   "metadata": {},
   "outputs": [],
   "source": [
    "for i in range(len(users)):\n",
    "    u[users[i]] = i"
   ]
  },
  {
   "cell_type": "code",
   "execution_count": 68,
   "id": "f28421f2-0d22-4250-86cb-e866534a08ab",
   "metadata": {},
   "outputs": [
    {
     "data": {
      "text/html": [
       "<div>\n",
       "<style scoped>\n",
       "    .dataframe tbody tr th:only-of-type {\n",
       "        vertical-align: middle;\n",
       "    }\n",
       "\n",
       "    .dataframe tbody tr th {\n",
       "        vertical-align: top;\n",
       "    }\n",
       "\n",
       "    .dataframe thead th {\n",
       "        text-align: right;\n",
       "    }\n",
       "</style>\n",
       "<table border=\"1\" class=\"dataframe\">\n",
       "  <thead>\n",
       "    <tr style=\"text-align: right;\">\n",
       "      <th></th>\n",
       "      <th>ind_ahor_fin_ult1</th>\n",
       "      <th>ind_aval_fin_ult1</th>\n",
       "      <th>ind_cco_fin_ult1</th>\n",
       "      <th>ind_cder_fin_ult1</th>\n",
       "      <th>ind_cno_fin_ult1</th>\n",
       "      <th>ind_ctju_fin_ult1</th>\n",
       "      <th>ind_ctma_fin_ult1</th>\n",
       "      <th>ind_ctop_fin_ult1</th>\n",
       "      <th>ind_ctpp_fin_ult1</th>\n",
       "      <th>ind_deco_fin_ult1</th>\n",
       "      <th>...</th>\n",
       "      <th>ind_hip_fin_ult1</th>\n",
       "      <th>ind_plan_fin_ult1</th>\n",
       "      <th>ind_pres_fin_ult1</th>\n",
       "      <th>ind_reca_fin_ult1</th>\n",
       "      <th>ind_tjcr_fin_ult1</th>\n",
       "      <th>ind_valo_fin_ult1</th>\n",
       "      <th>ind_viv_fin_ult1</th>\n",
       "      <th>ind_nomina_ult1</th>\n",
       "      <th>ind_nom_pens_ult1</th>\n",
       "      <th>ind_recibo_ult1</th>\n",
       "    </tr>\n",
       "  </thead>\n",
       "  <tbody>\n",
       "    <tr>\n",
       "      <th>1375586</th>\n",
       "      <td>0</td>\n",
       "      <td>0</td>\n",
       "      <td>1</td>\n",
       "      <td>0</td>\n",
       "      <td>0</td>\n",
       "      <td>0</td>\n",
       "      <td>0</td>\n",
       "      <td>0</td>\n",
       "      <td>0</td>\n",
       "      <td>0</td>\n",
       "      <td>...</td>\n",
       "      <td>0</td>\n",
       "      <td>0</td>\n",
       "      <td>0</td>\n",
       "      <td>0</td>\n",
       "      <td>0</td>\n",
       "      <td>0</td>\n",
       "      <td>0</td>\n",
       "      <td>0.0</td>\n",
       "      <td>0.0</td>\n",
       "      <td>0</td>\n",
       "    </tr>\n",
       "    <tr>\n",
       "      <th>1050611</th>\n",
       "      <td>0</td>\n",
       "      <td>0</td>\n",
       "      <td>1</td>\n",
       "      <td>0</td>\n",
       "      <td>0</td>\n",
       "      <td>0</td>\n",
       "      <td>0</td>\n",
       "      <td>0</td>\n",
       "      <td>0</td>\n",
       "      <td>0</td>\n",
       "      <td>...</td>\n",
       "      <td>0</td>\n",
       "      <td>0</td>\n",
       "      <td>0</td>\n",
       "      <td>0</td>\n",
       "      <td>0</td>\n",
       "      <td>0</td>\n",
       "      <td>0</td>\n",
       "      <td>0.0</td>\n",
       "      <td>0.0</td>\n",
       "      <td>0</td>\n",
       "    </tr>\n",
       "    <tr>\n",
       "      <th>1050612</th>\n",
       "      <td>0</td>\n",
       "      <td>0</td>\n",
       "      <td>1</td>\n",
       "      <td>0</td>\n",
       "      <td>0</td>\n",
       "      <td>0</td>\n",
       "      <td>0</td>\n",
       "      <td>0</td>\n",
       "      <td>0</td>\n",
       "      <td>0</td>\n",
       "      <td>...</td>\n",
       "      <td>0</td>\n",
       "      <td>0</td>\n",
       "      <td>0</td>\n",
       "      <td>0</td>\n",
       "      <td>0</td>\n",
       "      <td>0</td>\n",
       "      <td>0</td>\n",
       "      <td>0.0</td>\n",
       "      <td>0.0</td>\n",
       "      <td>0</td>\n",
       "    </tr>\n",
       "    <tr>\n",
       "      <th>1050613</th>\n",
       "      <td>0</td>\n",
       "      <td>0</td>\n",
       "      <td>0</td>\n",
       "      <td>0</td>\n",
       "      <td>0</td>\n",
       "      <td>0</td>\n",
       "      <td>0</td>\n",
       "      <td>0</td>\n",
       "      <td>0</td>\n",
       "      <td>1</td>\n",
       "      <td>...</td>\n",
       "      <td>0</td>\n",
       "      <td>0</td>\n",
       "      <td>0</td>\n",
       "      <td>0</td>\n",
       "      <td>0</td>\n",
       "      <td>0</td>\n",
       "      <td>0</td>\n",
       "      <td>0.0</td>\n",
       "      <td>0.0</td>\n",
       "      <td>0</td>\n",
       "    </tr>\n",
       "    <tr>\n",
       "      <th>1050614</th>\n",
       "      <td>0</td>\n",
       "      <td>0</td>\n",
       "      <td>1</td>\n",
       "      <td>0</td>\n",
       "      <td>0</td>\n",
       "      <td>0</td>\n",
       "      <td>0</td>\n",
       "      <td>0</td>\n",
       "      <td>0</td>\n",
       "      <td>0</td>\n",
       "      <td>...</td>\n",
       "      <td>0</td>\n",
       "      <td>0</td>\n",
       "      <td>0</td>\n",
       "      <td>0</td>\n",
       "      <td>0</td>\n",
       "      <td>0</td>\n",
       "      <td>0</td>\n",
       "      <td>0.0</td>\n",
       "      <td>0.0</td>\n",
       "      <td>0</td>\n",
       "    </tr>\n",
       "  </tbody>\n",
       "</table>\n",
       "<p>5 rows × 24 columns</p>\n",
       "</div>"
      ],
      "text/plain": [
       "         ind_ahor_fin_ult1  ind_aval_fin_ult1  ind_cco_fin_ult1  \\\n",
       "1375586                  0                  0                 1   \n",
       "1050611                  0                  0                 1   \n",
       "1050612                  0                  0                 1   \n",
       "1050613                  0                  0                 0   \n",
       "1050614                  0                  0                 1   \n",
       "\n",
       "         ind_cder_fin_ult1  ind_cno_fin_ult1  ind_ctju_fin_ult1  \\\n",
       "1375586                  0                 0                  0   \n",
       "1050611                  0                 0                  0   \n",
       "1050612                  0                 0                  0   \n",
       "1050613                  0                 0                  0   \n",
       "1050614                  0                 0                  0   \n",
       "\n",
       "         ind_ctma_fin_ult1  ind_ctop_fin_ult1  ind_ctpp_fin_ult1  \\\n",
       "1375586                  0                  0                  0   \n",
       "1050611                  0                  0                  0   \n",
       "1050612                  0                  0                  0   \n",
       "1050613                  0                  0                  0   \n",
       "1050614                  0                  0                  0   \n",
       "\n",
       "         ind_deco_fin_ult1  ...  ind_hip_fin_ult1  ind_plan_fin_ult1  \\\n",
       "1375586                  0  ...                 0                  0   \n",
       "1050611                  0  ...                 0                  0   \n",
       "1050612                  0  ...                 0                  0   \n",
       "1050613                  1  ...                 0                  0   \n",
       "1050614                  0  ...                 0                  0   \n",
       "\n",
       "         ind_pres_fin_ult1  ind_reca_fin_ult1  ind_tjcr_fin_ult1  \\\n",
       "1375586                  0                  0                  0   \n",
       "1050611                  0                  0                  0   \n",
       "1050612                  0                  0                  0   \n",
       "1050613                  0                  0                  0   \n",
       "1050614                  0                  0                  0   \n",
       "\n",
       "         ind_valo_fin_ult1  ind_viv_fin_ult1  ind_nomina_ult1  \\\n",
       "1375586                  0                 0              0.0   \n",
       "1050611                  0                 0              0.0   \n",
       "1050612                  0                 0              0.0   \n",
       "1050613                  0                 0              0.0   \n",
       "1050614                  0                 0              0.0   \n",
       "\n",
       "         ind_nom_pens_ult1  ind_recibo_ult1  \n",
       "1375586                0.0                0  \n",
       "1050611                0.0                0  \n",
       "1050612                0.0                0  \n",
       "1050613                0.0                0  \n",
       "1050614                0.0                0  \n",
       "\n",
       "[5 rows x 24 columns]"
      ]
     },
     "execution_count": 68,
     "metadata": {},
     "output_type": "execute_result"
    }
   ],
   "source": [
    "train1.index = train1['ncodpers'].tolist()\n",
    "train1.drop('ncodpers', axis=1, inplace=True)\n",
    "train1.head()"
   ]
  },
  {
   "cell_type": "code",
   "execution_count": 72,
   "id": "58d430a0-e705-4819-aafa-b64ec419fa37",
   "metadata": {},
   "outputs": [
    {
     "name": "stdout",
     "output_type": "stream",
     "text": [
      "train1.shape(13647309, 24)\n",
      "CPU times: user 2.87 s, sys: 6.77 s, total: 9.64 s\n",
      "Wall time: 9.83 s\n"
     ]
    },
    {
     "data": {
      "text/html": [
       "<div>\n",
       "<style scoped>\n",
       "    .dataframe tbody tr th:only-of-type {\n",
       "        vertical-align: middle;\n",
       "    }\n",
       "\n",
       "    .dataframe tbody tr th {\n",
       "        vertical-align: top;\n",
       "    }\n",
       "\n",
       "    .dataframe thead th {\n",
       "        text-align: right;\n",
       "    }\n",
       "</style>\n",
       "<table border=\"1\" class=\"dataframe\">\n",
       "  <thead>\n",
       "    <tr style=\"text-align: right;\">\n",
       "      <th></th>\n",
       "      <th>ind_ahor_fin_ult1</th>\n",
       "      <th>ind_aval_fin_ult1</th>\n",
       "      <th>ind_cco_fin_ult1</th>\n",
       "      <th>ind_cder_fin_ult1</th>\n",
       "      <th>ind_cno_fin_ult1</th>\n",
       "      <th>ind_ctju_fin_ult1</th>\n",
       "      <th>ind_ctma_fin_ult1</th>\n",
       "      <th>ind_ctop_fin_ult1</th>\n",
       "      <th>ind_ctpp_fin_ult1</th>\n",
       "      <th>ind_deco_fin_ult1</th>\n",
       "      <th>...</th>\n",
       "      <th>ind_hip_fin_ult1</th>\n",
       "      <th>ind_plan_fin_ult1</th>\n",
       "      <th>ind_pres_fin_ult1</th>\n",
       "      <th>ind_reca_fin_ult1</th>\n",
       "      <th>ind_tjcr_fin_ult1</th>\n",
       "      <th>ind_valo_fin_ult1</th>\n",
       "      <th>ind_viv_fin_ult1</th>\n",
       "      <th>ind_nomina_ult1</th>\n",
       "      <th>ind_nom_pens_ult1</th>\n",
       "      <th>ind_recibo_ult1</th>\n",
       "    </tr>\n",
       "  </thead>\n",
       "  <tbody>\n",
       "    <tr>\n",
       "      <th>1375586</th>\n",
       "      <td>0.0</td>\n",
       "      <td>0.0</td>\n",
       "      <td>1.0</td>\n",
       "      <td>0.0</td>\n",
       "      <td>0.0</td>\n",
       "      <td>0.0</td>\n",
       "      <td>0.0</td>\n",
       "      <td>0.0</td>\n",
       "      <td>0.0</td>\n",
       "      <td>0.0</td>\n",
       "      <td>...</td>\n",
       "      <td>0.0</td>\n",
       "      <td>0.0</td>\n",
       "      <td>0.0</td>\n",
       "      <td>0.0</td>\n",
       "      <td>0.0</td>\n",
       "      <td>0.0</td>\n",
       "      <td>0.0</td>\n",
       "      <td>0.0</td>\n",
       "      <td>0.0</td>\n",
       "      <td>0.0</td>\n",
       "    </tr>\n",
       "    <tr>\n",
       "      <th>1050611</th>\n",
       "      <td>0.0</td>\n",
       "      <td>0.0</td>\n",
       "      <td>1.0</td>\n",
       "      <td>0.0</td>\n",
       "      <td>0.0</td>\n",
       "      <td>0.0</td>\n",
       "      <td>0.0</td>\n",
       "      <td>0.0</td>\n",
       "      <td>0.0</td>\n",
       "      <td>0.0</td>\n",
       "      <td>...</td>\n",
       "      <td>0.0</td>\n",
       "      <td>0.0</td>\n",
       "      <td>0.0</td>\n",
       "      <td>0.0</td>\n",
       "      <td>0.0</td>\n",
       "      <td>0.0</td>\n",
       "      <td>0.0</td>\n",
       "      <td>0.0</td>\n",
       "      <td>0.0</td>\n",
       "      <td>0.0</td>\n",
       "    </tr>\n",
       "    <tr>\n",
       "      <th>1050612</th>\n",
       "      <td>0.0</td>\n",
       "      <td>0.0</td>\n",
       "      <td>1.0</td>\n",
       "      <td>0.0</td>\n",
       "      <td>0.0</td>\n",
       "      <td>0.0</td>\n",
       "      <td>0.0</td>\n",
       "      <td>0.0</td>\n",
       "      <td>0.0</td>\n",
       "      <td>0.0</td>\n",
       "      <td>...</td>\n",
       "      <td>0.0</td>\n",
       "      <td>0.0</td>\n",
       "      <td>0.0</td>\n",
       "      <td>0.0</td>\n",
       "      <td>0.0</td>\n",
       "      <td>0.0</td>\n",
       "      <td>0.0</td>\n",
       "      <td>0.0</td>\n",
       "      <td>0.0</td>\n",
       "      <td>0.0</td>\n",
       "    </tr>\n",
       "  </tbody>\n",
       "</table>\n",
       "<p>3 rows × 24 columns</p>\n",
       "</div>"
      ],
      "text/plain": [
       "         ind_ahor_fin_ult1  ind_aval_fin_ult1  ind_cco_fin_ult1  \\\n",
       "1375586                0.0                0.0               1.0   \n",
       "1050611                0.0                0.0               1.0   \n",
       "1050612                0.0                0.0               1.0   \n",
       "\n",
       "         ind_cder_fin_ult1  ind_cno_fin_ult1  ind_ctju_fin_ult1  \\\n",
       "1375586                0.0               0.0                0.0   \n",
       "1050611                0.0               0.0                0.0   \n",
       "1050612                0.0               0.0                0.0   \n",
       "\n",
       "         ind_ctma_fin_ult1  ind_ctop_fin_ult1  ind_ctpp_fin_ult1  \\\n",
       "1375586                0.0                0.0                0.0   \n",
       "1050611                0.0                0.0                0.0   \n",
       "1050612                0.0                0.0                0.0   \n",
       "\n",
       "         ind_deco_fin_ult1  ...  ind_hip_fin_ult1  ind_plan_fin_ult1  \\\n",
       "1375586                0.0  ...               0.0                0.0   \n",
       "1050611                0.0  ...               0.0                0.0   \n",
       "1050612                0.0  ...               0.0                0.0   \n",
       "\n",
       "         ind_pres_fin_ult1  ind_reca_fin_ult1  ind_tjcr_fin_ult1  \\\n",
       "1375586                0.0                0.0                0.0   \n",
       "1050611                0.0                0.0                0.0   \n",
       "1050612                0.0                0.0                0.0   \n",
       "\n",
       "         ind_valo_fin_ult1  ind_viv_fin_ult1  ind_nomina_ult1  \\\n",
       "1375586                0.0               0.0              0.0   \n",
       "1050611                0.0               0.0              0.0   \n",
       "1050612                0.0               0.0              0.0   \n",
       "\n",
       "         ind_nom_pens_ult1  ind_recibo_ult1  \n",
       "1375586                0.0              0.0  \n",
       "1050611                0.0              0.0  \n",
       "1050612                0.0              0.0  \n",
       "\n",
       "[3 rows x 24 columns]"
      ]
     },
     "execution_count": 72,
     "metadata": {},
     "output_type": "execute_result"
    }
   ],
   "source": [
    "%%time\n",
    "train1 = train1.reindex(users)\n",
    "print(f'train1.shape{train1.shape}')\n",
    "train1.head(3)"
   ]
  },
  {
   "cell_type": "markdown",
   "id": "3169a89c-e8c1-4016-bc2e-5ac75cf94ec5",
   "metadata": {},
   "source": [
    "### svd"
   ]
  },
  {
   "cell_type": "code",
   "execution_count": 91,
   "id": "f7f8823b-7a68-4836-9145-5c3f0a08c179",
   "metadata": {},
   "outputs": [
    {
     "name": "stdout",
     "output_type": "stream",
     "text": [
      "CPU times: user 1.37 s, sys: 11.2 s, total: 12.5 s\n",
      "Wall time: 12.7 s\n"
     ]
    }
   ],
   "source": [
    "%%time\n",
    "utilMat = np.array(train1)\n",
    "mask = np.isnan(utilMat)\n",
    "mask_zero = "
   ]
  },
  {
   "cell_type": "code",
   "execution_count": 94,
   "id": "7d60ac51-253d-4cbf-91c5-37b1af1dd73a",
   "metadata": {},
   "outputs": [
    {
     "data": {
      "text/plain": [
       "(array([       0,        1,        2, ..., 13647308, 13647308, 13647308]),\n",
       " array([ 2,  2,  2, ..., 21, 22, 23]))"
      ]
     },
     "execution_count": 94,
     "metadata": {},
     "output_type": "execute_result"
    }
   ],
   "source": [
    "np.where(utilMat)"
   ]
  },
  {
   "cell_type": "code",
   "execution_count": 93,
   "id": "23fb0caa-4e0f-4096-8863-50aa62d8e5f5",
   "metadata": {},
   "outputs": [
    {
     "name": "stdout",
     "output_type": "stream",
     "text": [
      "75917862\n",
      "327535416\n"
     ]
    }
   ],
   "source": [
    "print(np.sum(mask))\n",
    "print(utilMat.shape[0] * utilMat.shape[1])"
   ]
  },
  {
   "cell_type": "code",
   "execution_count": 78,
   "id": "fee275d8-9888-41ee-a3e5-476ccd60a419",
   "metadata": {},
   "outputs": [
    {
     "name": "stdout",
     "output_type": "stream",
     "text": [
      "masked_arr.shape - (13647309, 24)\n",
      "item_means.shape - (24,)\n",
      "CPU times: user 2.36 s, sys: 9.37 s, total: 11.7 s\n",
      "Wall time: 11.9 s\n"
     ]
    }
   ],
   "source": [
    "%%time\n",
    "masked_arr=np.ma.masked_array(utilMat, mask)\n",
    "item_means=np.mean(masked_arr, axis=0)\n",
    "print(f'masked_arr.shape - {masked_arr.shape}')\n",
    "print(f'item_means.shape - {item_means.shape}')"
   ]
  },
  {
   "cell_type": "code",
   "execution_count": 79,
   "id": "c80ae9a4-2ad1-4747-b8d2-328857ab2129",
   "metadata": {},
   "outputs": [
    {
     "name": "stdout",
     "output_type": "stream",
     "text": [
      "[0.00014086538076379747 3.0805360857621244e-05 0.7842677689708568\n",
      " 0.00048544670825167844 0.09478923983051138 0.01233997902565028\n",
      " 0.013272341897923052 0.17154113021149453 0.058354032374049944\n",
      " 0.0022137895858424282 0.002612161079038354 0.057973781681358506\n",
      " 0.0969037465041161 0.02239120557495011 0.00805860610224633\n",
      " 0.012010752692274092 0.0034949301815093824 0.060178987730119864\n",
      " 0.05746153526288704 0.0327036577694172 0.005214594149384828\n",
      " 0.0630621993029027 0.07005819202959135 0.1539579452461892]\n"
     ]
    }
   ],
   "source": [
    "print(item_means)"
   ]
  },
  {
   "cell_type": "code",
   "execution_count": 80,
   "id": "ca079dad-3494-4584-8c13-91c26ab2b4f3",
   "metadata": {},
   "outputs": [
    {
     "data": {
      "text/plain": [
       "masked_array(\n",
       "  data=[[0.0, 0.0, 1.0, ..., 0.0, 0.0, 0.0],\n",
       "        [0.0, 0.0, 1.0, ..., 0.0, 0.0, 0.0],\n",
       "        [0.0, 0.0, 1.0, ..., 0.0, 0.0, 0.0],\n",
       "        ...,\n",
       "        [0.0, 0.0, 1.0, ..., 0.0, 0.0, 0.0],\n",
       "        [0.0, 0.0, 1.0, ..., 0.0, 0.0, 0.0],\n",
       "        [--, --, --, ..., --, --, --]],\n",
       "  mask=[[False, False, False, ..., False, False, False],\n",
       "        [False, False, False, ..., False, False, False],\n",
       "        [False, False, False, ..., False, False, False],\n",
       "        ...,\n",
       "        [False, False, False, ..., False, False, False],\n",
       "        [False, False, False, ..., False, False, False],\n",
       "        [ True,  True,  True, ...,  True,  True,  True]],\n",
       "  fill_value=1e+20)"
      ]
     },
     "execution_count": 80,
     "metadata": {},
     "output_type": "execute_result"
    }
   ],
   "source": [
    "masked_arr"
   ]
  },
  {
   "cell_type": "code",
   "execution_count": 82,
   "id": "309f787c-6350-433e-9c74-1b1464fa0a08",
   "metadata": {},
   "outputs": [
    {
     "name": "stdout",
     "output_type": "stream",
     "text": [
      "utilMat2.shape - (13647309, 24)\n",
      "CPU times: user 1.73 s, sys: 7.63 s, total: 9.36 s\n",
      "Wall time: 9.89 s\n"
     ]
    }
   ],
   "source": [
    "%%time\n",
    "utilMat2 = masked_arr.filled(item_means)\n",
    "print(f'utilMat2.shape - {utilMat2.shape}')"
   ]
  },
  {
   "cell_type": "code",
   "execution_count": 83,
   "id": "769c9c30-3a8f-4911-900f-6759e6d27b20",
   "metadata": {},
   "outputs": [
    {
     "data": {
      "text/plain": [
       "array([[0.00000000e+00, 0.00000000e+00, 1.00000000e+00, ...,\n",
       "        0.00000000e+00, 0.00000000e+00, 0.00000000e+00],\n",
       "       [0.00000000e+00, 0.00000000e+00, 1.00000000e+00, ...,\n",
       "        0.00000000e+00, 0.00000000e+00, 0.00000000e+00],\n",
       "       [0.00000000e+00, 0.00000000e+00, 1.00000000e+00, ...,\n",
       "        0.00000000e+00, 0.00000000e+00, 0.00000000e+00],\n",
       "       ...,\n",
       "       [0.00000000e+00, 0.00000000e+00, 1.00000000e+00, ...,\n",
       "        0.00000000e+00, 0.00000000e+00, 0.00000000e+00],\n",
       "       [0.00000000e+00, 0.00000000e+00, 1.00000000e+00, ...,\n",
       "        0.00000000e+00, 0.00000000e+00, 0.00000000e+00],\n",
       "       [1.40865381e-04, 3.08053609e-05, 7.84267769e-01, ...,\n",
       "        6.30621993e-02, 7.00581920e-02, 1.53957945e-01]])"
      ]
     },
     "execution_count": 83,
     "metadata": {},
     "output_type": "execute_result"
    }
   ],
   "source": [
    "utilMat2"
   ]
  },
  {
   "cell_type": "code",
   "execution_count": 86,
   "id": "44f000fe-a718-4864-9210-03ca02b96699",
   "metadata": {},
   "outputs": [
    {
     "name": "stdout",
     "output_type": "stream",
     "text": [
      "x.shape - (13647309, 24)\n",
      "CPU times: user 452 ms, sys: 5.99 s, total: 6.44 s\n",
      "Wall time: 7.17 s\n"
     ]
    }
   ],
   "source": [
    "%%time\n",
    "x = np.tile(item_means, (utilMat2.shape[0],1))\n",
    "print(f'x.shape - {x.shape}')"
   ]
  },
  {
   "cell_type": "code",
   "execution_count": 88,
   "id": "6adfddf4-eaa2-4040-aea8-3acfff060876",
   "metadata": {},
   "outputs": [
    {
     "data": {
      "text/plain": [
       "array([[1, 0],\n",
       "       [2, 3]])"
      ]
     },
     "execution_count": 88,
     "metadata": {},
     "output_type": "execute_result"
    }
   ],
   "source": [
    "a = np.array([[1,0],[2,3]])\n",
    "a"
   ]
  },
  {
   "cell_type": "code",
   "execution_count": 90,
   "id": "5c2615e6-399a-4d7b-85d9-35354c451a83",
   "metadata": {},
   "outputs": [
    {
     "data": {
      "text/plain": [
       "array([[False, False],\n",
       "       [False, False]])"
      ]
     },
     "execution_count": 90,
     "metadata": {},
     "output_type": "execute_result"
    }
   ],
   "source": [
    "mask = np.isnan(a)\n",
    "mask"
   ]
  },
  {
   "cell_type": "code",
   "execution_count": null,
   "id": "313496fe-2388-4dad-84f2-dabcf9a51e89",
   "metadata": {},
   "outputs": [],
   "source": []
  }
 ],
 "metadata": {
  "kernelspec": {
   "display_name": "Python 3 (ipykernel)",
   "language": "python",
   "name": "python3"
  },
  "language_info": {
   "codemirror_mode": {
    "name": "ipython",
    "version": 3
   },
   "file_extension": ".py",
   "mimetype": "text/x-python",
   "name": "python",
   "nbconvert_exporter": "python",
   "pygments_lexer": "ipython3",
   "version": "3.8.10"
  }
 },
 "nbformat": 4,
 "nbformat_minor": 5
}
