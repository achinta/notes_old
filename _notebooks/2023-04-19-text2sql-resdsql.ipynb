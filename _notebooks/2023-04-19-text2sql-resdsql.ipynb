{
 "cells": [
  {
   "attachments": {},
   "cell_type": "markdown",
   "metadata": {},
   "source": [
    "## Purpose\n",
    "We will attempt to understand the [ResdSQL](https://arxiv.org/abs/2302.05965) paper and its implementation in [github](https://github.com/RUCKBReasoning/RESDSQL)\n",
    "\n",
    "<img src=\"https://github.com/RUCKBReasoning/RESDSQL/blob/main/resdsql.png?raw=true\"  width=\"1200\" height=\"600\">\n",
    "\n",
    ">Due to the structural property of the SQL queries, the seq2seq model takes the responsibility of parsing both the schema items (i.e., tables and columns) and the skeleton (i.e., SQL keywords). Such coupled targets increase the difficulty of parsing the correct SQL queries especially when they involve many schema items and logic operators\n",
    "\n",
    "> for a seq2seq encoder-decode model, its encoder is injected by the most relevant schema items instead of the whole unordered ones, which could alleviate the schema linking effort during SQL parsing, and its decoder first generates the skeleton and then the actual SQL query, which could implicitly constrain the SQL parsing\n",
    "\n",
    "So the two main features of this paper are \n",
    " - **Ranking-enhanced Encoding** : Instead of using the whole schema, the encoder is injected with the most relevant schema items. we train an additional cross-encoder to classify the tables and columns simultaneously based on the input question, and then rank and filter them according to the classification probabilities to form a ranked schema sequence\n",
    " - **Skeleton-first Decoding** : The decoder first generates the skeleton (SQL keywords) and then the actual SQL query. Since skeleton parsing is much easier than SQL parsing, the first generated skeleton could implicitly guide the subsequent SQL parsing via the masked self-attention mechanism in the decoder.\n",
    "\n",
    "## Implementation\n",
    "We will identify the steps performed by the scripts in github repository. \n",
    "\n",
    "**1. Run the contents of preprocess.sh**\n",
    "\n",
    "Minor changes (remove the --db_path parameter to use the default)\n",
    "```bash\n",
    "python preprocessing.py \\\n",
    "    --mode \"train\" \\\n",
    "    --table_path \"./data/spider/tables.json\" \\\n",
    "    --input_dataset_path \"./data/spider/train_spider.json\" \\\n",
    "    --output_dataset_path \"./data/preprocessed_data/preprocessed_train_spider.json\" \\\n",
    "    --target_type \"sql\"\n",
    "\n",
    "python preprocessing.py \\\n",
    "    --mode \"eval\" \\\n",
    "    --table_path \"./data/spider/tables.json\" \\\n",
    "    --input_dataset_path \"./data/spider/dev.json\" \\\n",
    "    --output_dataset_path \"./data/preprocessed_data/preprocessed_dev.json\" \\\n",
    "    --target_type \"sql\"\n",
    "```"
   ]
  },
  {
   "attachments": {},
   "cell_type": "markdown",
   "metadata": {},
   "source": [
    "The preprocessing adds the following to the dataset and saves it in a new json file.\n",
    "- `norm_sql` : normalized SQL query\n",
    "- `sql_skeleton` : SQL skeleton\n",
    "- `nat_sql` : nat_sql if it exists (for train and dev, not test)\n",
    "- `norm_nat_sql` : normalized nat_sql if it exists\n",
    "- `natsql_skeleton` : nat_sql skeleton\n",
    "- `pk` : primary keys\n",
    "- `fk` : foreign keys\n",
    "- `db_schema`: database schema with original and semantic table and column names\n",
    "    - `db_contents`: column value matches. See the query 'What are the names of the heads who are born outside the California state' in the generated file preprocessed_train_spider.json"
   ]
  },
  {
   "cell_type": "markdown",
   "metadata": {},
   "source": []
  }
 ],
 "metadata": {
  "language_info": {
   "name": "python"
  },
  "orig_nbformat": 4
 },
 "nbformat": 4,
 "nbformat_minor": 2
}
