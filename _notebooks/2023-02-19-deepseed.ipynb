{
 "cells": [
  {
   "attachments": {},
   "cell_type": "markdown",
   "metadata": {},
   "source": [
    "This is notes from the [ZeRO - Memory Optimization](https://arxiv.org/abs/1910.02054) paper\n",
    "\n",
    "Data Parallelism (DP) and Model Parallelism (MP) are two ways to parallelize training. \n",
    "\n",
    "\n",
    "\n",
    "\n"
   ]
  },
  {
   "attachments": {},
   "cell_type": "markdown",
   "metadata": {},
   "source": [
    "|                                  | Data Parallel                                                                                                              | Model Parallel                                                                  |\n",
    "|----------------------------------|----------------------------------------------------------------------------------------------------------------------------|---------------------------------------------------------------------------------|\n",
    "| Split                            | Data is split across multiple GPUs and each GPU contains a copy of the modes                                               | We split the model across multiple GPUs. Each GPU contains a copy of the data.  |\n",
    "| Gradient Update                  | Gradients are averaged across GPUs and the model is updated.                                                               |                                                                                 |\n",
    "| Memory Efficiency                | **Low**. Does not reduce the memory occupied by the model.  Runs out of memory for models with more than 1.4B parameters.  | **High**                                                                        |\n",
    "| Compute/communication efficiency | **High**.                                                                                                                  | **Low**. Works well within a single node, due to high inter-gpu communication   |"
   ]
  },
  {
   "attachments": {},
   "cell_type": "markdown",
   "metadata": {},
   "source": [
    "![image from paper](../images/zero_memory.jpg)\n",
    "\n"
   ]
  },
  {
   "cell_type": "markdown",
   "metadata": {},
   "source": []
  }
 ],
 "metadata": {
  "kernelspec": {
   "display_name": "Python 3",
   "language": "python",
   "name": "python3"
  },
  "language_info": {
   "name": "python",
   "version": "3.10.8"
  },
  "orig_nbformat": 4,
  "vscode": {
   "interpreter": {
    "hash": "b0fa6594d8f4cbf19f97940f81e996739fb7646882a419484c72d19e05852a7e"
   }
  }
 },
 "nbformat": 4,
 "nbformat_minor": 2
}
