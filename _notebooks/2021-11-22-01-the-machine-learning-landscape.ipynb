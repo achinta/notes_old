{
 "cells": [
  {
   "cell_type": "markdown",
   "metadata": {},
   "source": [
    "---\n",
    "title: \"Hands - on ML \"\n",
    "description: \"Classification, Clustering and Regression\"\n",
    "layout: post\n",
    "toc: false\n",
    "comments: false\n",
    "hide: false\n",
    "search_exclude: true\n",
    "categories: [fastpages, jupyter]\n",
    "\n",
    "---\n",
    "\n",
    "Repeating content from https://github.com/ageron/handson-ml2/blob/master/01_the_machine_learning_landscape.ipynb"
   ]
  },
  {
   "cell_type": "code",
   "execution_count": 59,
   "metadata": {},
   "outputs": [
    {
     "name": "stdout",
     "output_type": "stream",
     "text": [
      "sklearn_version - 0.24.2\n"
     ]
    }
   ],
   "source": [
    "import sys, os\n",
    "import sklearn\n",
    "import urllib.request\n",
    "from pathlib import Path\n",
    "import matplotlib.pyplot as plt\n",
    "import pandas as pd\n",
    "import numpy as np\n",
    "import random\n",
    "\n",
    "# matplotlib\n",
    "import matplotlib\n",
    "matplotlib.rc('axes', labelsize=14),\n",
    "matplotlib.rc('xtick', labelsize=12)\n",
    "matplotlib.rc('ytick', labelsize=12)\n",
    "print(f'sklearn_version - {sklearn.__version__}')\n",
    "import seaborn as sns"
   ]
  },
  {
   "cell_type": "code",
   "execution_count": 2,
   "metadata": {},
   "outputs": [],
   "source": [
    "# just copying it from github. Prepreocessing code\n",
    "def prepare_country_stats(oecd_bli, gdp_per_capita):\n",
    "    oecd_bli = oecd_bli[oecd_bli[\"INEQUALITY\"]==\"TOT\"]\n",
    "    oecd_bli = oecd_bli.pivot(index=\"Country\", columns=\"Indicator\", values=\"Value\")\n",
    "    gdp_per_capita.rename(columns={\"2015\": \"GDP per capita\"}, inplace=True)\n",
    "    gdp_per_capita.set_index(\"Country\", inplace=True)\n",
    "    full_country_stats = pd.merge(left=oecd_bli, right=gdp_per_capita,\n",
    "                                  left_index=True, right_index=True)\n",
    "    full_country_stats.sort_values(by=\"GDP per capita\", inplace=True)\n",
    "    remove_indices = [0, 1, 6, 8, 33, 34, 35]\n",
    "    keep_indices = list(set(range(36)) - set(remove_indices))\n",
    "    return full_country_stats[[\"GDP per capita\", 'Life satisfaction']].iloc[keep_indices]"
   ]
  },
  {
   "cell_type": "code",
   "execution_count": 23,
   "metadata": {},
   "outputs": [
    {
     "name": "stdout",
     "output_type": "stream",
     "text": [
      "404: Not Found"
     ]
    }
   ],
   "source": [
    "!curl https://raw.githubusercontent.com/ageron/handson-ml2/master/oecd_bli_2015.csv"
   ]
  },
  {
   "cell_type": "code",
   "execution_count": 35,
   "metadata": {},
   "outputs": [
    {
     "name": "stdout",
     "output_type": "stream",
     "text": [
      "downloading from https://raw.githubusercontent.com/ageron/handson-ml2/master//datasets/lifesat/oecd_bli_2015.csv to /home/achinta/machine-learning/books/handson-ml2/datasets/lifesat/oecd_bli_2015.csv\n",
      "downloading from https://raw.githubusercontent.com/ageron/handson-ml2/master//datasets/lifesat/gdp_per_capita.csv to /home/achinta/machine-learning/books/handson-ml2/datasets/lifesat/gdp_per_capita.csv\n"
     ]
    }
   ],
   "source": [
    "# download the data\n",
    "DOWNLOAD_ROOT =  \"https://raw.githubusercontent.com/ageron/handson-ml2/master/\"\n",
    "datapath = Path('datasets/lifesat')\n",
    "datapath.mkdir(exist_ok=True, parents=True )\n",
    "\n",
    "for filename in (\"oecd_bli_2015.csv\", \"gdp_per_capita.csv\"):\n",
    "    url = '/'.join([DOWNLOAD_ROOT, 'datasets/lifesat',filename])\n",
    "    filepath = (datapath/filename).resolve()\n",
    "    print(f'downloading from {url}')\n",
    "    urllib.request.urlretrieve(url, filepath)"
   ]
  },
  {
   "cell_type": "markdown",
   "metadata": {},
   "source": [
    "### Plot the data"
   ]
  },
  {
   "cell_type": "code",
   "execution_count": 83,
   "metadata": {},
   "outputs": [
    {
     "name": "stdout",
     "output_type": "stream",
     "text": [
      "country stats.shape - (29, 2)\n"
     ]
    },
    {
     "data": {
      "image/png": "[encoded data removed]",
      "text/plain": [
       "<Figure size 576x288 with 1 Axes>"
      ]
     },
     "metadata": {
      "needs_background": "light"
     },
     "output_type": "display_data"
    }
   ],
   "source": [
    "oecd_bli = pd.read_csv(datapath/'oecd_bli_2015.csv', thousands=',')\n",
    "gdp_per_capita = pd.read_csv(datapath/'gdp_per_capita.csv', thousands=',', delimiter='\\t', encoding='latin1', na_values='n/a')\n",
    "country_stats = prepare_country_stats(oecd_bli, gdp_per_capita)\n",
    "print(f'country stats.shape - {country_stats.shape}')\n",
    "\n",
    "# show the data in a plot\n",
    "fig, ax = plt.subplots(figsize=(8,4))\n",
    "sns.scatterplot(x=country_stats['GDP per capita'], y=country_stats['Life satisfaction'], ax=ax)\n",
    "\n",
    "# lets annotate a few examples\n",
    "idxs = random.sample(range(country_stats.shape[0]), k=5)\n",
    "for idx in idxs:\n",
    "    row = country_stats.iloc[idx]\n",
    "    plt.annotate(row.name, xy=(row['GDP per capita'], row['Life satisfaction']), \n",
    "                 arrowprops=dict(facecolor='black', width=0.5, shrink=0.1, headwidth=5),\n",
    "                xytext=(row['GDP per capita'],row['Life satisfaction'] - 0.5 ))\n",
    "\n",
    "plt.show()"
   ]
  },
  {
   "cell_type": "markdown",
   "metadata": {},
   "source": [
    "### model"
   ]
  },
  {
   "cell_type": "code",
   "execution_count": 90,
   "metadata": {},
   "outputs": [
    {
     "data": {
      "text/plain": [
       "LinearRegression()"
      ]
     },
     "execution_count": 90,
     "metadata": {},
     "output_type": "execute_result"
    }
   ],
   "source": [
    "import sklearn.linear_model\n",
    "\n",
    "x=country_stats['GDP per capita'].values\n",
    "y=country_stats['Life satisfaction'].values\n",
    "                                                   \n",
    "model = sklearn.linear_model.LinearRegression()\n",
    "model.fit(x[:, np.newaxis], y)"
   ]
  },
  {
   "cell_type": "code",
   "execution_count": 91,
   "metadata": {},
   "outputs": [
    {
     "name": "stdout",
     "output_type": "stream",
     "text": [
      "[5.96242338]\n"
     ]
    }
   ],
   "source": [
    "# Make a prediction for Cyprus\n",
    "X_new = [[22587]]  # Cyprus' GDP per capita\n",
    "print(model.predict(X_new)) # outputs [[ 5.96242338]]"
   ]
  },
  {
   "cell_type": "code",
   "execution_count": null,
   "metadata": {},
   "outputs": [],
   "source": []
  }
 ],
 "metadata": {
  "kernelspec": {
   "display_name": "Python 3",
   "language": "python",
   "name": "python3"
  },
  "language_info": {
   "codemirror_mode": {
    "name": "ipython",
    "version": 3
   },
   "file_extension": ".py",
   "mimetype": "text/x-python",
   "name": "python",
   "nbconvert_exporter": "python",
   "pygments_lexer": "ipython3",
   "version": "3.6.8"
  }
 },
 "nbformat": 4,
 "nbformat_minor": 5
}
