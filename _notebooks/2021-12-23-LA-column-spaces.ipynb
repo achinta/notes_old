{
 "cells": [
  {
   "cell_type": "markdown",
   "metadata": {},
   "source": [
    "# MIT 18.065 Linear Algebra, Lecture 1\n",
    "> Understanding column spaces\n",
    " - layout: post\n",
    " - toc: false\n",
    " - comments: false\n",
    " - hide: false\n",
    " - search_exclude: true\n",
    " - categories: [fastpages, jupyter]\n",
    " - use_math: true\n",
    "\n",
    "This is my notes from [MIT 18.065 Matrix Methods in Data Analysis, Signal Processing, and Machine Learning, Spring 2018](https://ocw.mit.edu/courses/mathematics/18-065-matrix-methods-in-data-analysis-signal-processing-and-machine-learning-spring-2018/index.htm)\n",
    "\n",
    "Lecture 1 is [The Column Space of A Contains All Vectors Ax](https://www.youtube.com/watch?v=YiqIkSHSmyc)"
   ]
  },
  {
   "cell_type": "markdown",
   "metadata": {},
   "source": [
    "#### How to view matrix multiplication?\n",
    "\n",
    "$$\n",
    "\\begin{bmatrix}\n",
    "2 & 1 & 3 \\\\\n",
    "3 & 1 & 4 \\\\\n",
    "5 & 7 & 12\n",
    "\\end{bmatrix}{\\cdot}\n",
    "\\begin{bmatrix}\n",
    "x1 \\\\\n",
    "x2 \\\\\n",
    "x3\n",
    "\\end{bmatrix}\n",
    "$$\n",
    "\n",
    "Instead of viewing it as a dot product, the output should be seen as a combination of column vectors in A\n",
    "\n",
    "$$\n",
    "\\begin{bmatrix}\n",
    "2 \\\\ 3 \\\\ 5\n",
    "\\end{bmatrix}\n",
    "x1\n",
    "\\,+\\, \n",
    "\\begin{bmatrix}\n",
    "1 \\\\ 1 \\\\ 7\n",
    "\\end{bmatrix}\n",
    "x2\n",
    "\\,+\\, \n",
    "\\begin{bmatrix}\n",
    "3 \\\\ 4 \\\\ 12\n",
    "\\end{bmatrix}\n",
    "x3\n",
    "$$"
   ]
  },
  {
   "cell_type": "markdown",
   "metadata": {},
   "source": [
    "### Basis and Rank\n",
    "The independent columns using which the other columns can be expressed as a combination of is known `Basis` for column space. The number of independent columns is known as `Rank`\n",
    "\n",
    "\n",
    "$$\n",
    "\\begin{bmatrix}\n",
    "2 & 1 & 3 \\\\\n",
    "3 & 1 & 4 \\\\\n",
    "5 & 7 & 12\n",
    "\\end{bmatrix}\n",
    "=\n",
    "\\begin{bmatrix}\n",
    "2 & 1 \\\\\n",
    "3 & 1 \\\\\n",
    "5 & 7 \n",
    "\\end{bmatrix}\n",
    "\\begin{bmatrix}\n",
    "0 & 0 & 1 \\\\\n",
    "\\rowcolor{pink} 0 & 1 & 1 \\\\\n",
    "\\end{bmatrix}\n",
    "$$"
   ]
  },
  {
   "cell_type": "code",
   "execution_count": null,
   "metadata": {},
   "outputs": [],
   "source": []
  }
 ],
 "metadata": {
  "kernelspec": {
   "display_name": "Python 3",
   "language": "python",
   "name": "python3"
  },
  "language_info": {
   "codemirror_mode": {
    "name": "ipython",
    "version": 3
   },
   "file_extension": ".py",
   "mimetype": "text/x-python",
   "name": "python",
   "nbconvert_exporter": "python",
   "pygments_lexer": "ipython3",
   "version": "3.7.7"
  }
 },
 "nbformat": 4,
 "nbformat_minor": 4
}
