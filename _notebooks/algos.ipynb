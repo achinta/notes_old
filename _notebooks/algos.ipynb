{
 "cells": [
  {
   "cell_type": "markdown",
   "metadata": {},
   "source": [
    "# Search Algorithms\n",
    "> Basic search algorithms in python\n",
    "\n",
    "- layout: post\n",
    "- toc: false\n",
    "- comments: false\n",
    "- hide: false\n",
    "- search_exclude: true\n",
    "- categories: [algorithms]\n",
    "\n",
    "My implementations of search algorithms"
   ]
  },
  {
   "cell_type": "code",
   "execution_count": 16,
   "metadata": {},
   "outputs": [],
   "source": [
    "import random"
   ]
  },
  {
   "cell_type": "code",
   "execution_count": 33,
   "metadata": {},
   "outputs": [],
   "source": [
    "### helper methods\n",
    "def swap(a, i, j):\n",
    "    '''\n",
    "    swap contents of array at indexs i and j\n",
    "    '''\n",
    "    tmp = a[i]\n",
    "    a[i] = a[j]\n",
    "    a[j] = tmp\n",
    "    \n",
    "def test_sorting(method):\n",
    "    max_int = random.randint(0, 100)\n",
    "    size = random.randint(2, 6)\n",
    "    a = random.choices(range(0, max_int), k=size)\n",
    "    output = method(a.copy())\n",
    "    assert output == sorted(a.copy()), f'sort failed - input {a} and output - {output}. Expecting {sorted(a.copy())}'"
   ]
  },
  {
   "cell_type": "code",
   "execution_count": 34,
   "metadata": {},
   "outputs": [],
   "source": [
    "def selection_sort(a):\n",
    "    '''\n",
    "    The array is split into sorted (empty initially) and unsorted parts. In the unsorted split, \n",
    "    we select the smallest and swap it with the element after sorted part. \n",
    "    '''\n",
    "    l = len(a)\n",
    "    # looping through the unsorted part\n",
    "    for start_idx in range(l):\n",
    "        small_idx = start_idx\n",
    "        # finding the smallest element in the unsorted part\n",
    "        for current_idx in range(start_idx+1, l):\n",
    "            if a[current_idx] < a[small_idx]:\n",
    "                # bring the smallest element to the end of the sorted part\n",
    "                swap(a, small_idx, current_idx)\n",
    "    return a.copy()\n",
    "\n",
    "\n",
    "def insertion_sort(a):\n",
    "    '''\n",
    "    The array is split into sorted (empty initially) and unsorted parts. We take the first element in the unsorted\n",
    "    part and insert it in the right location in the sorted part, continuously swapping elements in the sorted part, \n",
    "    until it it finds a lesser element on its left. https://www.youtube.com/watch?v=i-SKeOcBwko\n",
    "    '''\n",
    "    l = len(a)\n",
    "    # looping through the unsorted part\n",
    "    for start_idx in range(1, l):\n",
    "        print(f'sorted {a[:start_idx]}')\n",
    "        for sorted_idx in range(start_idx - 1, 0):\n",
    "            if a[sorted_idx] >  a[sorted_idx + 1]:\n",
    "                swap(a, a[sorted_idx], a[sorted_idx + 1])\n",
    "            else:\n",
    "                break\n",
    "    return a.copy()\n",
    "                "
   ]
  },
  {
   "cell_type": "code",
   "execution_count": 43,
   "metadata": {},
   "outputs": [
    {
     "name": "stdout",
     "output_type": "stream",
     "text": [
      "a is [2, 1]\n",
      "left_idx is 0 of (0, 5) and right_idx is 5 of (5, 11)\n"
     ]
    },
    {
     "ename": "IndexError",
     "evalue": "list index out of range",
     "output_type": "error",
     "traceback": [
      "\u001b[0;31m---------------------------------------------------------------------------\u001b[0m",
      "\u001b[0;31mIndexError\u001b[0m                                Traceback (most recent call last)",
      "\u001b[0;32m/tmp/ipykernel_718155/2838891493.py\u001b[0m in \u001b[0;36m<module>\u001b[0;34m\u001b[0m\n\u001b[1;32m     37\u001b[0m \u001b[0ma\u001b[0m\u001b[0;34m[\u001b[0m\u001b[0;36m0\u001b[0m\u001b[0;34m:\u001b[0m\u001b[0mlen\u001b[0m\u001b[0;34m(\u001b[0m\u001b[0ma\u001b[0m\u001b[0;34m)\u001b[0m\u001b[0;34m]\u001b[0m\u001b[0;34m\u001b[0m\u001b[0;34m\u001b[0m\u001b[0m\n\u001b[1;32m     38\u001b[0m \u001b[0;31m# print(merge(a, (1, 4), (6, 8)))\u001b[0m\u001b[0;34m\u001b[0m\u001b[0;34m\u001b[0m\u001b[0;34m\u001b[0m\u001b[0m\n\u001b[0;32m---> 39\u001b[0;31m \u001b[0mtest_sorting\u001b[0m\u001b[0;34m(\u001b[0m\u001b[0mmerge_sort\u001b[0m\u001b[0;34m)\u001b[0m\u001b[0;34m\u001b[0m\u001b[0;34m\u001b[0m\u001b[0m\n\u001b[0m",
      "\u001b[0;32m/tmp/ipykernel_718155/3347367482.py\u001b[0m in \u001b[0;36mtest_sorting\u001b[0;34m(method)\u001b[0m\n\u001b[1;32m     12\u001b[0m     \u001b[0msize\u001b[0m \u001b[0;34m=\u001b[0m \u001b[0mrandom\u001b[0m\u001b[0;34m.\u001b[0m\u001b[0mrandint\u001b[0m\u001b[0;34m(\u001b[0m\u001b[0;36m2\u001b[0m\u001b[0;34m,\u001b[0m \u001b[0;36m6\u001b[0m\u001b[0;34m)\u001b[0m\u001b[0;34m\u001b[0m\u001b[0;34m\u001b[0m\u001b[0m\n\u001b[1;32m     13\u001b[0m     \u001b[0ma\u001b[0m \u001b[0;34m=\u001b[0m \u001b[0mrandom\u001b[0m\u001b[0;34m.\u001b[0m\u001b[0mchoices\u001b[0m\u001b[0;34m(\u001b[0m\u001b[0mrange\u001b[0m\u001b[0;34m(\u001b[0m\u001b[0;36m0\u001b[0m\u001b[0;34m,\u001b[0m \u001b[0mmax_int\u001b[0m\u001b[0;34m)\u001b[0m\u001b[0;34m,\u001b[0m \u001b[0mk\u001b[0m\u001b[0;34m=\u001b[0m\u001b[0msize\u001b[0m\u001b[0;34m)\u001b[0m\u001b[0;34m\u001b[0m\u001b[0;34m\u001b[0m\u001b[0m\n\u001b[0;32m---> 14\u001b[0;31m     \u001b[0moutput\u001b[0m \u001b[0;34m=\u001b[0m \u001b[0mmethod\u001b[0m\u001b[0;34m(\u001b[0m\u001b[0ma\u001b[0m\u001b[0;34m.\u001b[0m\u001b[0mcopy\u001b[0m\u001b[0;34m(\u001b[0m\u001b[0;34m)\u001b[0m\u001b[0;34m)\u001b[0m\u001b[0;34m\u001b[0m\u001b[0;34m\u001b[0m\u001b[0m\n\u001b[0m\u001b[1;32m     15\u001b[0m     \u001b[0;32massert\u001b[0m \u001b[0moutput\u001b[0m \u001b[0;34m==\u001b[0m \u001b[0msorted\u001b[0m\u001b[0;34m(\u001b[0m\u001b[0ma\u001b[0m\u001b[0;34m.\u001b[0m\u001b[0mcopy\u001b[0m\u001b[0;34m(\u001b[0m\u001b[0;34m)\u001b[0m\u001b[0;34m)\u001b[0m\u001b[0;34m,\u001b[0m \u001b[0;34mf'sort failed - input {a} and output - {output}. Expecting {sorted(a.copy())}'\u001b[0m\u001b[0;34m\u001b[0m\u001b[0;34m\u001b[0m\u001b[0m\n",
      "\u001b[0;32m/tmp/ipykernel_718155/2838891493.py\u001b[0m in \u001b[0;36mmerge_sort\u001b[0;34m(a, start_idx, end_idx)\u001b[0m\n\u001b[1;32m     32\u001b[0m     \u001b[0mleft_idxs\u001b[0m \u001b[0;34m=\u001b[0m \u001b[0;34m(\u001b[0m\u001b[0mstart_idx\u001b[0m\u001b[0;34m,\u001b[0m\u001b[0mstart_idx\u001b[0m \u001b[0;34m+\u001b[0m \u001b[0mlength\u001b[0m\u001b[0;34m//\u001b[0m\u001b[0;36m2\u001b[0m\u001b[0;34m)\u001b[0m\u001b[0;34m\u001b[0m\u001b[0;34m\u001b[0m\u001b[0m\n\u001b[1;32m     33\u001b[0m     \u001b[0mright_idxs\u001b[0m \u001b[0;34m=\u001b[0m \u001b[0;34m(\u001b[0m\u001b[0mstart_idx\u001b[0m \u001b[0;34m+\u001b[0m \u001b[0mlength\u001b[0m\u001b[0;34m//\u001b[0m\u001b[0;36m2\u001b[0m\u001b[0;34m,\u001b[0m \u001b[0mend_idx\u001b[0m\u001b[0;34m)\u001b[0m\u001b[0;34m\u001b[0m\u001b[0;34m\u001b[0m\u001b[0m\n\u001b[0;32m---> 34\u001b[0;31m     \u001b[0;32mreturn\u001b[0m \u001b[0mmerge\u001b[0m\u001b[0;34m(\u001b[0m\u001b[0ma\u001b[0m\u001b[0;34m,\u001b[0m \u001b[0mleft_idxs\u001b[0m\u001b[0;34m,\u001b[0m \u001b[0mright_idxs\u001b[0m\u001b[0;34m)\u001b[0m\u001b[0;34m\u001b[0m\u001b[0;34m\u001b[0m\u001b[0m\n\u001b[0m\u001b[1;32m     35\u001b[0m \u001b[0;34m\u001b[0m\u001b[0m\n\u001b[1;32m     36\u001b[0m \u001b[0ma\u001b[0m \u001b[0;34m=\u001b[0m \u001b[0;34m[\u001b[0m\u001b[0;36m0\u001b[0m\u001b[0;34m,\u001b[0m \u001b[0;36m1\u001b[0m\u001b[0;34m,\u001b[0m \u001b[0;36m2\u001b[0m\u001b[0;34m,\u001b[0m \u001b[0;36m3\u001b[0m\u001b[0;34m,\u001b[0m \u001b[0;36m4\u001b[0m\u001b[0;34m,\u001b[0m \u001b[0;36m5\u001b[0m\u001b[0;34m,\u001b[0m \u001b[0;36m6\u001b[0m\u001b[0;34m,\u001b[0m \u001b[0;36m7\u001b[0m\u001b[0;34m,\u001b[0m \u001b[0;36m8\u001b[0m\u001b[0;34m,\u001b[0m \u001b[0;36m9\u001b[0m\u001b[0;34m,\u001b[0m \u001b[0;36m10\u001b[0m\u001b[0;34m]\u001b[0m\u001b[0;34m\u001b[0m\u001b[0;34m\u001b[0m\u001b[0m\n",
      "\u001b[0;32m/tmp/ipykernel_718155/2838891493.py\u001b[0m in \u001b[0;36mmerge\u001b[0;34m(a, left_idxs, right_idxs)\u001b[0m\n\u001b[1;32m     10\u001b[0m     \u001b[0;32mwhile\u001b[0m\u001b[0;34m(\u001b[0m\u001b[0mleft_idx\u001b[0m \u001b[0;34m<\u001b[0m \u001b[0mleft_idxs\u001b[0m\u001b[0;34m[\u001b[0m\u001b[0;36m1\u001b[0m\u001b[0;34m]\u001b[0m\u001b[0;34m)\u001b[0m \u001b[0;32mand\u001b[0m \u001b[0;34m(\u001b[0m\u001b[0mright_idx\u001b[0m \u001b[0;34m<\u001b[0m \u001b[0mright_idxs\u001b[0m\u001b[0;34m[\u001b[0m\u001b[0;36m1\u001b[0m\u001b[0;34m]\u001b[0m\u001b[0;34m)\u001b[0m\u001b[0;34m:\u001b[0m\u001b[0;34m\u001b[0m\u001b[0;34m\u001b[0m\u001b[0m\n\u001b[1;32m     11\u001b[0m         \u001b[0mprint\u001b[0m\u001b[0;34m(\u001b[0m\u001b[0;34mf'left_idx is {left_idx} of {left_idxs} and right_idx is {right_idx} of {right_idxs}'\u001b[0m\u001b[0;34m)\u001b[0m\u001b[0;34m\u001b[0m\u001b[0;34m\u001b[0m\u001b[0m\n\u001b[0;32m---> 12\u001b[0;31m         \u001b[0;32mif\u001b[0m \u001b[0ma\u001b[0m\u001b[0;34m[\u001b[0m\u001b[0mleft_idx\u001b[0m\u001b[0;34m]\u001b[0m \u001b[0;34m<\u001b[0m \u001b[0ma\u001b[0m\u001b[0;34m[\u001b[0m\u001b[0mright_idx\u001b[0m\u001b[0;34m]\u001b[0m\u001b[0;34m:\u001b[0m\u001b[0;34m\u001b[0m\u001b[0;34m\u001b[0m\u001b[0m\n\u001b[0m\u001b[1;32m     13\u001b[0m             \u001b[0;31m# append the smaller element to the new array\u001b[0m\u001b[0;34m\u001b[0m\u001b[0;34m\u001b[0m\u001b[0;34m\u001b[0m\u001b[0m\n\u001b[1;32m     14\u001b[0m             \u001b[0ms\u001b[0m\u001b[0;34m.\u001b[0m\u001b[0mappend\u001b[0m\u001b[0;34m(\u001b[0m\u001b[0ma\u001b[0m\u001b[0;34m[\u001b[0m\u001b[0mleft_idx\u001b[0m\u001b[0;34m]\u001b[0m\u001b[0;34m)\u001b[0m\u001b[0;34m\u001b[0m\u001b[0;34m\u001b[0m\u001b[0m\n",
      "\u001b[0;31mIndexError\u001b[0m: list index out of range"
     ]
    }
   ],
   "source": [
    "def merge(a, left_idxs, right_idxs):\n",
    "    '''\n",
    "    merge two sorted arrays. left_idxs are a tuple of start and end indexes in array for first array.\n",
    "    right_idxs also has similar meaning\n",
    "    '''\n",
    "    s = []\n",
    "    left_idx = left_idxs[0]\n",
    "    right_idx = right_idxs[0]\n",
    "    \n",
    "    while(left_idx < left_idxs[1]) and (right_idx < right_idxs[1]):\n",
    "        print(f'left_idx is {left_idx} of {left_idxs} and right_idx is {right_idx} of {right_idxs}')\n",
    "        if a[left_idx] < a[right_idx]:\n",
    "            # append the smaller element to the new array\n",
    "            s.append(a[left_idx])\n",
    "            left_idx += 1\n",
    "        else:\n",
    "            s.append(a[right_idx])\n",
    "            right_idx += 1\n",
    "    print(s, left_idx, right_idx)\n",
    "        \n",
    "    # if left array reached the end, concat remaning right array to sorted array\n",
    "    if left_idx == left_idxs[1]:\n",
    "        s.extend(a[right_idx: right_idxs[1]])          \n",
    "    else:\n",
    "        s.extend(a[left_idx: left_idxs[1]])\n",
    "        \n",
    "    return s\n",
    "    \n",
    "def merge_sort(a, start_idx=0, end_idx=len(a)):\n",
    "    print(f'a is {a} with start_idx - {start_idx} and end_idx {}')\n",
    "    length = end_idx - start_idx\n",
    "    left_idxs = (start_idx,start_idx + length//2)\n",
    "    right_idxs = (start_idx + length//2, end_idx)\n",
    "    \n",
    "    return merge(a, left_idxs, right_idxs)\n",
    "    \n",
    "a = [0, 1, 2, 3, 4, 5, 6, 7, 8, 9, 10]\n",
    "a[0:len(a)]\n",
    "# print(merge(a, (1, 4), (6, 8)))\n",
    "test_sorting(merge_sort)"
   ]
  },
  {
   "cell_type": "code",
   "execution_count": 20,
   "metadata": {},
   "outputs": [],
   "source": [
    "import random\n",
    "max_int = 100\n",
    "size = 10\n",
    "a = random.choices(range(0, max_int), k=size)\n",
    "left_idx = random.choice(range(len(a)))\n",
    "right_idx = random.choice(range(left_idx, len(a)))\n",
    "length = right_idx - left_idx\n",
    "left_array = a[left_idx:left_idx + length//2]\n",
    "right_array = a[left_idx + length//2: right_idx]\n",
    "assert a[left_idx: right_idx] == left_array + right_array, f'{a} != {left_array} + {right_array}'"
   ]
  },
  {
   "cell_type": "code",
   "execution_count": 30,
   "metadata": {},
   "outputs": [],
   "source": []
  },
  {
   "cell_type": "code",
   "execution_count": 48,
   "metadata": {},
   "outputs": [
    {
     "data": {
      "text/plain": [
       "3232235777"
      ]
     },
     "execution_count": 48,
     "metadata": {},
     "output_type": "execute_result"
    }
   ],
   "source": [
    "from ipaddress import ip_address\n",
    "int(ip_address('192.168.1.1'))"
   ]
  },
  {
   "cell_type": "code",
   "execution_count": null,
   "metadata": {},
   "outputs": [],
   "source": []
  }
 ],
 "metadata": {
  "kernelspec": {
   "display_name": "Python 3 (ipykernel)",
   "language": "python",
   "name": "python3"
  },
  "language_info": {
   "codemirror_mode": {
    "name": "ipython",
    "version": 3
   },
   "file_extension": ".py",
   "mimetype": "text/x-python",
   "name": "python",
   "nbconvert_exporter": "python",
   "pygments_lexer": "ipython3",
   "version": "3.8.12"
  }
 },
 "nbformat": 4,
 "nbformat_minor": 4
}
