{
 "cells": [
  {
   "cell_type": "markdown",
   "metadata": {},
   "source": [
    "# Linear Regression\n",
    "> Basics\n",
    " - layout: post\n",
    " - toc: false\n",
    " - comments: false\n",
    " - hide: false\n",
    " - search_exclude: true\n",
    " - categories: [fastpages, jupyter]\n",
    " - use_math: true"
   ]
  },
  {
   "cell_type": "markdown",
   "metadata": {},
   "source": [
    "### Matrix Decompositions\n",
    "Matrix decomposition is the expression of a matrix as a product of matrices. Just as factorizing a number can tell us important properties of a number, so does matrix decomposition can reveal important properties. \n",
    "\n",
    "Here are five important matrix factorizations\n",
    "\n",
    "#### $A = LU$\n",
    "This comes from elimination. Matrix L is lower triangular and U is upper triangular. \n",
    "\n",
    "#### $A = QR$\n",
    "Comes from orthogonalizing the columns $a_1$ to $a_n$, as in 'Gram-Schmidt'\n",
    "\n",
    "#### $S = Q{\\Lambda}Q^T$\n",
    "S is a symmetric matrix. Q has orthonormal eigen vectors as its columns. The corresponding eigen values are the digagonal of $\\Lambda$"
   ]
  },
  {
   "cell_type": "code",
   "execution_count": 51,
   "metadata": {},
   "outputs": [
    {
     "name": "stdout",
     "output_type": "stream",
     "text": [
      "symmetric matrix: \n",
      "\n",
      "[[5 6 1]\n",
      " [6 5 5]\n",
      " [1 5 3]]\n",
      "\n",
      "eigen values - [-2.78571018  2.86068379 12.92502638]\n"
     ]
    }
   ],
   "source": [
    "import numpy as np\n",
    "from scipy import linalg \n",
    "import random\n",
    "\n",
    "# create a symmetric matrix\n",
    "a = np.random.randint(1, 10, size=(3,3))\n",
    "s = np.tril(a, -1).T + np.tril(a)\n",
    "print(f'symmetric matrix: \\n\\n{s}')\n",
    "\n",
    "# eigen decomposition\n",
    "w, q = linalg.eigh(s)\n",
    "print(f'\\neigen values - {w}')"
   ]
  },
  {
   "cell_type": "code",
   "execution_count": 50,
   "metadata": {},
   "outputs": [
    {
     "data": {
      "text/plain": [
       "array([[6., 5., 4.],\n",
       "       [5., 3., 5.],\n",
       "       [4., 5., 4.]])"
      ]
     },
     "execution_count": 50,
     "metadata": {},
     "output_type": "execute_result"
    }
   ],
   "source": [
    "# lets reconstruct the matrix\n",
    "np.linalg.multi_dot([q, np.diag(w), np.transpose(q)])"
   ]
  },
  {
   "cell_type": "code",
   "execution_count": 71,
   "metadata": {},
   "outputs": [],
   "source": [
    "# Check that the columns of the matrix are orthogonal\n",
    "# select two columns randomly and check the dot prodct\n",
    "col_idxs = random.sample(range(0, s.shape[0]), k=2)\n",
    "assert np.isclose(np.dot(q[col_idxs[0]], q[col_idxs[1]]), 0)"
   ]
  },
  {
   "cell_type": "code",
   "execution_count": 70,
   "metadata": {},
   "outputs": [
    {
     "data": {
      "text/plain": [
       "0.9999999999999999"
      ]
     },
     "execution_count": 70,
     "metadata": {},
     "output_type": "execute_result"
    }
   ],
   "source": [
    "# check the Euclidean norm of any of columns. It should be 1 as they are orthonormal\n",
    "col_idx = random.choice(range(0, s.shape[0]))\n",
    "np.linalg.norm(q[col_idx], ord=2)"
   ]
  },
  {
   "cell_type": "code",
   "execution_count": null,
   "metadata": {},
   "outputs": [],
   "source": []
  }
 ],
 "metadata": {
  "kernelspec": {
   "display_name": "Python 3",
   "language": "python",
   "name": "python3"
  },
  "language_info": {
   "codemirror_mode": {
    "name": "ipython",
    "version": 3
   },
   "file_extension": ".py",
   "mimetype": "text/x-python",
   "name": "python",
   "nbconvert_exporter": "python",
   "pygments_lexer": "ipython3",
   "version": "3.7.7"
  }
 },
 "nbformat": 4,
 "nbformat_minor": 4
}
