{
 "cells": [
  {
   "cell_type": "markdown",
   "metadata": {},
   "source": [
    "# Search Algorithms\n",
    "> Basic search algorithms in python\n",
    "\n",
    "- layout: post\n",
    "- toc: false\n",
    "- comments: false\n",
    "- hide: false\n",
    "- search_exclude: true\n",
    "- categories: [algorithms]\n",
    "\n",
    "My implementations of search algorithms"
   ]
  },
  {
   "cell_type": "code",
   "execution_count": 1,
   "metadata": {},
   "outputs": [],
   "source": [
    "import random"
   ]
  },
  {
   "cell_type": "code",
   "execution_count": 2,
   "metadata": {},
   "outputs": [],
   "source": [
    "### helper methods\n",
    "def swap(a, i, j):\n",
    "    '''\n",
    "    swap contents of array at indexs i and j\n",
    "    '''\n",
    "    tmp = a[i]\n",
    "    a[i] = a[j]\n",
    "    a[j] = tmp\n",
    "    \n",
    "def test_sorting(method, a=None, log=True):\n",
    "    if not a:\n",
    "        max_int = random.randint(0, 100)\n",
    "        size = random.randint(2, 6)\n",
    "        a = random.choices(range(0, max_int), k=size)\n",
    "    if log:\n",
    "        print(f'org array  - {a}')\n",
    "    output = method(a.copy())\n",
    "    assert output == sorted(a.copy()), f'sort failed - input {a} and output - {output}. Expecting {sorted(a.copy())}'"
   ]
  },
  {
   "cell_type": "code",
   "execution_count": 3,
   "metadata": {},
   "outputs": [
    {
     "name": "stdout",
     "output_type": "stream",
     "text": [
      "[55, 30, 80, 42, 21, 45]\n"
     ]
    },
    {
     "data": {
      "text/plain": [
       "[21, 30, 42, 45, 55, 80]"
      ]
     },
     "execution_count": 3,
     "metadata": {},
     "output_type": "execute_result"
    }
   ],
   "source": [
    "def selection_sort(a):\n",
    "    '''\n",
    "    The array is split into sorted (empty initially) and unsorted parts. In the unsorted split, \n",
    "    we select the smallest and swap it with the element after sorted part. \n",
    "    '''\n",
    "    l = len(a)\n",
    "    # looping through the unsorted part\n",
    "    for start_idx in range(l):\n",
    "        small_idx = start_idx\n",
    "        # finding the smallest element in the unsorted part\n",
    "        for current_idx in range(start_idx+1, l):\n",
    "            if a[current_idx] < a[small_idx]:\n",
    "                # bring the smallest element to the end of the sorted part\n",
    "                swap(a, small_idx, current_idx)\n",
    "    return a.copy()\n",
    "\n",
    "\n",
    "def insertion_sort(a):\n",
    "    '''\n",
    "    The array is split into sorted (empty initially) and unsorted parts. We take the first element in the unsorted\n",
    "    part and insert it in the right location in the sorted part, continuously swapping elements in the sorted part\n",
    "    until it it finds a lesser element on its left. https://www.youtube.com/watch?v=i-SKeOcBwko\n",
    "    '''\n",
    "    l = len(a)\n",
    "    # looping through the unsorted part\n",
    "    for start_idx in range(1, l):\n",
    "        for current_idx in range(start_idx - 1, -1, -1):\n",
    "            if a[current_idx] >  a[current_idx + 1]:\n",
    "                swap(a, current_idx, current_idx + 1)\n",
    "            else:\n",
    "                break\n",
    "    return a.copy()\n",
    "                \n",
    "        \n",
    "a = [55, 30, 80, 42, 21, 45]\n",
    "print(a)\n",
    "insertion_sort(a)\n",
    "a"
   ]
  },
  {
   "cell_type": "markdown",
   "metadata": {},
   "source": [
    "### Merge Sort"
   ]
  },
  {
   "cell_type": "code",
   "execution_count": 15,
   "metadata": {},
   "outputs": [],
   "source": [
    "def merge(left, right):\n",
    "    s = []\n",
    "    \n",
    "    len_left = len(left)\n",
    "    len_right = len(right)\n",
    "    left_idx = 0\n",
    "    right_idx = 0\n",
    "    \n",
    "    while (left_idx < len_left) and (right_idx < len_right):\n",
    "        if left[left_idx] < right[right_idx]:\n",
    "            s.append(left[left_idx])\n",
    "            left_idx += 1\n",
    "        else:\n",
    "            s.append(right[right_idx])\n",
    "            right_idx += 1\n",
    "        \n",
    "    # if we reached the end of left array, so concat the remaining right array\n",
    "    if left_idx == len_left:\n",
    "        s.extend(right[right_idx:])\n",
    "    \n",
    "    # if we reached end of right array, so concat the remaining left array\n",
    "    if right_idx == len_right:\n",
    "        s.extend(left[left_idx:])\n",
    "        \n",
    "    return s\n",
    "\n",
    "def merge_sort(a):\n",
    "    '''\n",
    "    We split the array into two (almost equal) halves and sort recursively. We then combine the two merged halves. \n",
    "    '''\n",
    "    l = len(a)\n",
    "    if l == 1:\n",
    "        return a\n",
    "    left_array = a[:l//2]\n",
    "    right_array = a[l//2:]\n",
    "    left_sorted = merge_sort(left_array)\n",
    "    right_sorted = merge_sort(right_array)\n",
    "    \n",
    "    return merge(left_sorted, right_sorted)"
   ]
  },
  {
   "cell_type": "code",
   "execution_count": 14,
   "metadata": {},
   "outputs": [
    {
     "name": "stdout",
     "output_type": "stream",
     "text": [
      "org array  - [6, 2, 0, 1]\n"
     ]
    }
   ],
   "source": [
    "test_sorting(merge_sort)"
   ]
  },
  {
   "cell_type": "markdown",
   "metadata": {},
   "source": [
    "### Quick Sort"
   ]
  },
  {
   "cell_type": "code",
   "execution_count": 48,
   "metadata": {},
   "outputs": [
    {
     "data": {
      "text/plain": [
       "3232235777"
      ]
     },
     "execution_count": 48,
     "metadata": {},
     "output_type": "execute_result"
    }
   ],
   "source": [
    "from ipaddress import ip_address\n",
    "int(ip_address('192.168.1.1'))"
   ]
  },
  {
   "cell_type": "code",
   "execution_count": null,
   "metadata": {},
   "outputs": [],
   "source": []
  }
 ],
 "metadata": {
  "kernelspec": {
   "display_name": "Python 3 (ipykernel)",
   "language": "python",
   "name": "python3"
  },
  "language_info": {
   "codemirror_mode": {
    "name": "ipython",
    "version": 3
   },
   "file_extension": ".py",
   "mimetype": "text/x-python",
   "name": "python",
   "nbconvert_exporter": "python",
   "pygments_lexer": "ipython3",
   "version": "3.8.12"
  }
 },
 "nbformat": 4,
 "nbformat_minor": 4
}
