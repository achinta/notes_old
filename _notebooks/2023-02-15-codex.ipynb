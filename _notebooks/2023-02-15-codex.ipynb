{
 "cells": [
  {
   "cell_type": "markdown",
   "id": "61e4f264-5794-4877-b5aa-19dcdd21216d",
   "metadata": {},
   "source": [
    "Here I am exploring the capabiliteis of Text to SQL of OpenAI codex\n",
    "\n",
    "https://openai.com/blog/openai-codex/"
   ]
  },
  {
   "cell_type": "code",
   "execution_count": 13,
   "id": "f16483db-0445-4fc2-928a-45d5b48a6272",
   "metadata": {},
   "outputs": [],
   "source": [
    "import os\n",
    "import openai\n",
    "from typing import Dict, List\n",
    "import json\n",
    "import requests\n",
    "\n",
    "openai.api_key = os.getenv(\"OPENAI_API_KEY\")\n",
    "\n",
    "def get_schema_string_for_codex(schema_json:Dict):\n",
    "  # accepts schema json where key is table name and value is list of columns\n",
    "  tables = []\n",
    "  for table, columns in schema_json.items():\n",
    "    cols = \", \".join(columns)\n",
    "    table_string = f\"# Table {table}, columns = [{cols}]\"\n",
    "    tables.append(table_string)\n",
    "\n",
    "  schema_str = \"# SQL\\n\\n\"\n",
    "  schema_str += \"\\n\".join(tables)\n",
    "  return schema_str\n",
    "\n",
    "\n",
    "def get_codex_sql(schema, query, print_prompt=True):\n",
    "  prompt = \"\\n\\n\".join([schema, query])\n",
    "  if print_prompt:\n",
    "    print(prompt)\n",
    "  response = openai.Completion.create(\n",
    "    model=\"code-davinci-002\",\n",
    "    prompt=prompt,\n",
    "    temperature=0,\n",
    "    max_tokens=150,\n",
    "    top_p=1.0,\n",
    "    frequency_penalty=0.0,\n",
    "    presence_penalty=0.0,\n",
    "    stop=[\"#\", \";\"]\n",
    "  )\n",
    "  return response.choices[0].text\n",
    "\n",
    "\n",
    "def get_schema_string_for_picard(schema_json:Dict, db_name:str):\n",
    "  tables = []\n",
    "  for table, columns in schema_json.items():\n",
    "    cols = \", \".join(columns)\n",
    "    table_string = f\"{table} : {cols}\"\n",
    "    tables.append(table_string)\n",
    "  schema_str = f'| {db_name} | ' + ' | '.join(tables)\n",
    "  return schema_str\n",
    "\n",
    "def get_picard_sql(schema_str, query, print_prompt=True):\n",
    "  payload = json.dumps({\n",
    "    \"question\": query,\n",
    "    \"db_schema\": schema_str\n",
    "  })\n",
    "\n",
    "  if print_prompt:\n",
    "    print(schema_str)\n",
    "  headers = {\n",
    "    'Content-Type': 'application/json'\n",
    "  }\n",
    "\n",
    "  picard_ip = os.getenv('PICARD_IP')\n",
    "  if not picard_ip:\n",
    "    raise ValueError('PICARD_IP not set')\n",
    "\n",
    "  url = f'http://{picard_ip}:8000/ask-with-schema/'\n",
    "  response = requests.request(\"POST\", url, headers=headers, data=payload)\n",
    "  return response.json()[0]\n"
   ]
  },
  {
   "cell_type": "code",
   "execution_count": 21,
   "id": "17336adb",
   "metadata": {},
   "outputs": [],
   "source": [
    "\n",
    "schema = {\n",
    "    \"albums\": [\"AlbumId\", \"Title\", \"ArtistId\"],\n",
    "    \"artists\": [\"ArtistId\", \"Name\"],\n",
    "    \"media_types\": [\"MediaTypeId\", \"Name\"],\n",
    "    \"playlists\": [\"PlaylistId\", \"Name\"],\n",
    "    \"playlist_track\": [\"PlaylistId\", \"TrackId\"],\n",
    "    \"tracks\": [\"TrackId\", \"Name\", \"AlbumId\", \"MediaTypeId\", \"GenreId\", \"Composer\", \"Milliseconds\", \"Bytes\", \"UnitPrice\"]\n",
    "}\n",
    "\n",
    "query = 'generate sql query to list all albums by Adele'\n",
    "query = 'genereate sql to find artists with longest average track length'\n",
    "query = 'generate sql to find the most expensive albums'\n",
    "query = 'generate sql to find duration of tracks from album abc in playlist xyz'"
   ]
  },
  {
   "cell_type": "code",
   "execution_count": 22,
   "id": "ec11dc87",
   "metadata": {},
   "outputs": [
    {
     "name": "stdout",
     "output_type": "stream",
     "text": [
      "# SQL\n",
      "\n",
      "# Table albums, columns = [AlbumId, Title, ArtistId]\n",
      "# Table artists, columns = [ArtistId, Name]\n",
      "# Table media_types, columns = [MediaTypeId, Name]\n",
      "# Table playlists, columns = [PlaylistId, Name]\n",
      "# Table playlist_track, columns = [PlaylistId, TrackId]\n",
      "# Table tracks, columns = [TrackId, Name, AlbumId, MediaTypeId, GenreId, Composer, Milliseconds, Bytes, UnitPrice]\n",
      "\n",
      "generate sql to find duration of tracks from album abc in playlist xyz\n",
      "\n",
      "\n",
      "SELECT SUM(Milliseconds)\n",
      "FROM tracks\n",
      "WHERE AlbumId = (SELECT AlbumId FROM albums WHERE Title = 'abc')\n",
      "AND TrackId IN (SELECT TrackId FROM playlist_track WHERE PlaylistId = (SELECT PlaylistId FROM playlists WHERE Name = 'xyz'))\n",
      "\n",
      "\n"
     ]
    }
   ],
   "source": [
    "schema_codex = get_schema_string_for_codex(schema)\n",
    "print(get_codex_sql(schema_codex, query))"
   ]
  },
  {
   "cell_type": "code",
   "execution_count": 23,
   "id": "08afef45",
   "metadata": {},
   "outputs": [
    {
     "name": "stdout",
     "output_type": "stream",
     "text": [
      "| music | albums : AlbumId, Title, ArtistId | artists : ArtistId, Name | media_types : MediaTypeId, Name | playlists : PlaylistId, Name | playlist_track : PlaylistId, TrackId | tracks : TrackId, Name, AlbumId, MediaTypeId, GenreId, Composer, Milliseconds, Bytes, UnitPrice\n",
      "select t1.milliseconds from tracks as t1 join playlist_track as t2 on t1.trackId = t2.TrackId join albums as t3 on t3.albumId = t2.AlbumId join playlists as t4 on t4.playlistId = t1.playlistId where t3.albumId = \"ABC\" and t4.name = \"xyz\"\n"
     ]
    }
   ],
   "source": [
    "schema_picard = get_schema_string_for_picard(schema, 'music')\n",
    "print(get_picard_sql(schema_picard, query))"
   ]
  },
  {
   "attachments": {},
   "cell_type": "markdown",
   "id": "1adc4a9b",
   "metadata": {},
   "source": [
    "| query                                                                  | codex_sql                                                                                                                                                                                                                                                                                                                                                                            | co_res | picard_sql                                                                                                                                                                                                                                    | pi_res |\n",
    "|------------------------------------------------------------------------|--------------------------------------------------------------------------------------------------------------------------------------------------------------------------------------------------------------------------------------------------------------------------------------------------------------------------------------------------------------------------------------|--------|-----------------------------------------------------------------------------------------------------------------------------------------------------------------------------------------------------------------------------------------------|--------|\n",
    "| generate sql query to list all albums by Adele                         | SELECT * FROM albums  JOIN artists ON artists.ArtistId = albums.ArtistId  WHERE artists.Name = 'Adele'                                                                                                                                                                                                                                                                               |        | select t1.title from albums as t1 join artists as t2 on t1.ArtistId = t2.ArtistId where t2.Name = \"Adele\"                                                                                                                                     |        |\n",
    "| genereate sql to find artists with longest average track length        | SELECT a.Name, AVG(t.Milliseconds) AS AverageTrackLength FROM artists a JOIN albums al ON a.ArtistId = al.ArtistId JOIN tracks t ON al.AlbumId = t.AlbumId GROUP BY a.Name ORDER BY AverageTrackLength DESC LIMIT 1  FROM artists a  JOIN albums al ON a.ArtistId = al.ArtistId  JOIN tracks t ON al.AlbumId = t.AlbumId  GROUP BY a.Name  ORDER BY AverageTrackLength DESC  LIMIT 1 |        | select t1.Name from artists as t1 join tracks as t2 on t1.ArtistId = t2.ArtistId group by t2.ArtistId order by avg(milliseconds) desc limit 1                                                                                                 |        |\n",
    "|  generate sql to find the most expensive albums                        | select albums.title, tracks.unitprice  from albums  join tracks on albums.albumid = tracks.albumid  order by tracks.unitprice desc  limit 1                                                                                                                                                                                                                                          |        | select title from albums order by unitprice desc limit 1                                                                                                                                                                                      |        |\n",
    "| generate sql to find duration of tracks from album abc in playlist xyz | SELECT SUM(Milliseconds)  FROM tracks  WHERE AlbumId = (SELECT AlbumId FROM albums WHERE Title = 'abc')  AND TrackId IN (SELECT TrackId FROM playlist_track WHERE PlaylistId = (SELECT PlaylistId FROM playlists WHERE Name = 'xyz'))                                                                                                                                                |        | select t1.milliseconds from tracks as t1 join playlist_track as t2 on t1.trackId = t2.TrackId join albums as t3 on t3.albumId = t2.AlbumId join playlists as t4 on t4.playlistId = t1.playlistId where t3.albumId = \"ABC\" and t4.name = \"xyz\" |        |\n",
    "|                                                                        |                                                                                                                                                                                                                                                                                                                                                                                      |        |                                                                                                                                                                                                                                               |        |"
   ]
  },
  {
   "cell_type": "markdown",
   "id": "ad48ffb4",
   "metadata": {},
   "source": []
  }
 ],
 "metadata": {
  "kernelspec": {
   "display_name": "ml",
   "language": "python",
   "name": "python3"
  },
  "language_info": {
   "codemirror_mode": {
    "name": "ipython",
    "version": 3
   },
   "file_extension": ".py",
   "mimetype": "text/x-python",
   "name": "python",
   "nbconvert_exporter": "python",
   "pygments_lexer": "ipython3",
   "version": "3.9.12"
  },
  "vscode": {
   "interpreter": {
    "hash": "0e254e10ce936db31950534e6283aea55ae2f493e2c9033656d0427d3a6e205d"
   }
  }
 },
 "nbformat": 4,
 "nbformat_minor": 5
}
