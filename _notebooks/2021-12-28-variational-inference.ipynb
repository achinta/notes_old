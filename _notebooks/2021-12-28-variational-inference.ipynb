{
 "cells": [
  {
   "cell_type": "markdown",
   "metadata": {},
   "source": [
    "# Variational Inference\n",
    "> Under the hood\n",
    " - layout: post\n",
    " - toc: false\n",
    " - comments: false\n",
    " - hide: false\n",
    " - search_exclude: true\n",
    " - categories: [fastpages, jupyter]\n",
    " - use_math: true"
   ]
  },
  {
   "cell_type": "markdown",
   "metadata": {},
   "source": [
    "### Purpose\n",
    "Following the blog post https://willcrichton.net/notes/probabilistic-programming-under-the-hood/"
   ]
  },
  {
   "cell_type": "code",
   "execution_count": 2,
   "metadata": {},
   "outputs": [],
   "source": [
    "import pyro.distributions as dist\n",
    "from pyro import sample\n",
    "import torch"
   ]
  },
  {
   "cell_type": "code",
   "execution_count": 10,
   "metadata": {},
   "outputs": [
    {
     "name": "stdout",
     "output_type": "stream",
     "text": [
      "coinflip - 1.0\n",
      "Noisy Sample - -0.21278521418571472\n"
     ]
    }
   ],
   "source": [
    "# A fair coin flip\n",
    "coinflip = sample(\"coinflip\", dist.Bernoulli(probs=0.5))\n",
    "print(f'coinflip - {coinflip}')\n",
    "\n",
    "# Noisy sample\n",
    "noisy_sample = sample(\"noisy_sample\", dist.Normal(loc=0, scale=1))\n",
    "print(f'Noisy Sample - {noisy_sample}')"
   ]
  },
  {
   "cell_type": "code",
   "execution_count": 42,
   "metadata": {},
   "outputs": [
    {
     "name": "stdout",
     "output_type": "stream",
     "text": [
      "tensor(9.6567)\n",
      "tensor(8.2041)\n",
      "tensor(11.7966)\n"
     ]
    }
   ],
   "source": [
    "def sleep_model():\n",
    "    # very likely to feel lazy\n",
    "    feeling_lazy = sample('feeling_lazy', dist.Bernoulli(0.9))\n",
    "    if feeling_lazy:\n",
    "        # only going to possibly ignore alarm if I am feeling lazy\n",
    "        ignore_alarm = sample('ignore_alarm', dist.Bernoulli(0.8))\n",
    "        # will sleep more if Ignore alarm\n",
    "        amount_slept = sample(f'amount_slept', dist.Normal(8 + 2*ignore_alarm, 1))\n",
    "    else:\n",
    "        amount_slept = sample('amount_slept', dist.Normal(6, 1))\n",
    "    return amount_slept\n",
    "\n",
    "print(sleep_model())\n",
    "print(sleep_model())\n",
    "print(sleep_model())\n",
    "                              "
   ]
  },
  {
   "cell_type": "markdown",
   "metadata": {},
   "source": [
    "### Traces and conditioning\n",
    "On the unconditional sleep model, we could ask a few questions, like:\n",
    "\n",
    " - Joint probability of a sample: what is the probability that `feeling_lazy` = 1, `ignore_alarm` = 0, amount_slept = 10?\n",
    " - Joint probability distribution: what is the probability for any possible assignment to all variables?\n",
    " - Marginal probability of a sample: what is the probability that `feeling_lazy` is true?\n",
    " - Marginal probability distribution: what is the probability over all values of `amount_slept`?\n",
    " \n",
    "First, we need the ability to evaluate the probability of a joint assignment to each variable. "
   ]
  },
  {
   "cell_type": "code",
   "execution_count": 19,
   "metadata": {},
   "outputs": [],
   "source": [
    "from pyro.poutine import trace\n",
    "from pprint import pprint"
   ]
  },
  {
   "cell_type": "code",
   "execution_count": 22,
   "metadata": {},
   "outputs": [
    {
     "name": "stdout",
     "output_type": "stream",
     "text": [
      "{'alarm_slept': {'prob': tensor(0.3937), 'value': tensor(7.8368)},\n",
      " 'feeling_lazy': {'prob': tensor(0.9000), 'value': tensor(1.)},\n",
      " 'ignore_alarm': {'prob': tensor(0.2000), 'value': tensor(0.)}}\n"
     ]
    }
   ],
   "source": [
    "# Runs the sleep model and collects a trace\n",
    "tr = trace(sleep_model).get_trace()\n",
    "pprint({\n",
    "    name: {\n",
    "        'value': props['value'],\n",
    "        'prob': props['fn'].log_prob(props['value']).exp()\n",
    "    }\n",
    "    for (name, props) in tr.nodes.items()\n",
    "    if props['type'] == 'sample'\n",
    "})"
   ]
  },
  {
   "cell_type": "markdown",
   "metadata": {},
   "source": [
    "### conditional probabilities"
   ]
  },
  {
   "cell_type": "code",
   "execution_count": 27,
   "metadata": {},
   "outputs": [
    {
     "data": {
      "text/plain": [
       "tensor(0.0303)"
      ]
     },
     "execution_count": 27,
     "metadata": {},
     "output_type": "execute_result"
    }
   ],
   "source": [
    "from pyro import condition\n",
    "\n",
    "cond_model = condition(sleep_model, {\n",
    "    'feeling_lazy': torch.tensor(1.0),\n",
    "    'ignore_alarm': torch.tensor(0.0),\n",
    "    'amount_slept': 10.0\n",
    "})\n",
    "\n",
    "trace(cond_model).get_trace().log_prob_sum().exp()"
   ]
  },
  {
   "cell_type": "markdown",
   "metadata": {},
   "source": [
    "Now we can produce an approximate answer to any of our questions by sampling from distribution enough times. For example, we can look at the marginal distribution over each variable"
   ]
  },
  {
   "cell_type": "code",
   "execution_count": 46,
   "metadata": {},
   "outputs": [
    {
     "data": {
      "text/plain": [
       "array([[<AxesSubplot:title={'center':'feeling_lazy'}>,\n",
       "        <AxesSubplot:title={'center':'ignore_alarm'}>],\n",
       "       [<AxesSubplot:title={'center':'amount_slept'}>, <AxesSubplot:>]],\n",
       "      dtype=object)"
      ]
     },
     "execution_count": 46,
     "metadata": {},
     "output_type": "execute_result"
    },
    {
     "data": {
      "image/png": "[encoded data removed]",
      "text/plain": [
       "<Figure size 432x288 with 4 Axes>"
      ]
     },
     "metadata": {
      "needs_background": "light"
     },
     "output_type": "display_data"
    }
   ],
   "source": [
    "import pandas as pd\n",
    "import matplotlib.pyplot as plt\n",
    "\n",
    "traces = []\n",
    "for _ in range(1000):\n",
    "    tr = trace(sleep_model).get_trace()\n",
    "    values = {\n",
    "        name: props['value'].item()\n",
    "        for (name, props) in tr.nodes.items()\n",
    "        if props['type'] == 'sample'\n",
    "    }\n",
    "    traces.append(values)\n",
    "\n",
    "df = pd.DataFrame(traces)\n",
    "df.hist()"
   ]
  },
  {
   "cell_type": "code",
   "execution_count": 47,
   "metadata": {},
   "outputs": [
    {
     "data": {
      "text/html": [
       "<div>\n",
       "<style scoped>\n",
       "    .dataframe tbody tr th:only-of-type {\n",
       "        vertical-align: middle;\n",
       "    }\n",
       "\n",
       "    .dataframe tbody tr th {\n",
       "        vertical-align: top;\n",
       "    }\n",
       "\n",
       "    .dataframe thead th {\n",
       "        text-align: right;\n",
       "    }\n",
       "</style>\n",
       "<table border=\"1\" class=\"dataframe\">\n",
       "  <thead>\n",
       "    <tr style=\"text-align: right;\">\n",
       "      <th></th>\n",
       "      <th>feeling_lazy</th>\n",
       "      <th>ignore_alarm</th>\n",
       "      <th>amount_slept</th>\n",
       "    </tr>\n",
       "  </thead>\n",
       "  <tbody>\n",
       "    <tr>\n",
       "      <th>0</th>\n",
       "      <td>1.0</td>\n",
       "      <td>1.0</td>\n",
       "      <td>10.285290</td>\n",
       "    </tr>\n",
       "    <tr>\n",
       "      <th>1</th>\n",
       "      <td>1.0</td>\n",
       "      <td>1.0</td>\n",
       "      <td>11.648011</td>\n",
       "    </tr>\n",
       "  </tbody>\n",
       "</table>\n",
       "</div>"
      ],
      "text/plain": [
       "   feeling_lazy  ignore_alarm  amount_slept\n",
       "0           1.0           1.0     10.285290\n",
       "1           1.0           1.0     11.648011"
      ]
     },
     "execution_count": 47,
     "metadata": {},
     "output_type": "execute_result"
    }
   ],
   "source": [
    "df.head(2)"
   ]
  },
  {
   "cell_type": "markdown",
   "metadata": {},
   "source": [
    "### Sampling conditional distributions\n",
    " - Given I slept 6 hours, what is the probability I was feeling lazy?\n",
    " - What is the probability of me sleeping exactly 7.65 hours\n",
    " \n",
    " What is the problem with this?\n",
    "First, as the number of marginalized variables grows, we have an exponential increase in summation terms.\n",
    "\n",
    "But the second issue is that for continuous variables, computing this marginal probability can quickly become intractable. For example, if `feeling_lazy` was a real-valued laziness score between 0 and 1 (presumably a more realistic model), then marginalizing that variable requires an integral instead of a sum. In general, producing an exact estimate of a conditional probability for a complex probabilistic program is not computationally feasible.\n",
    "\n",
    "## Approximate Inference\n",
    "The main idea is that instead of exactly computing the conditional probability distribution (or “posterior”) of interest, we can approximate it using a variety of techniques. Generally, these fall into two camps: sampling methods and variational methods. The CS 228 (Probabilistic Graphical Models at Stanford) course notes go in depth on both ([sampling](https://ermongroup.github.io/cs228-notes/inference/sampling/), [Variational](https://ermongroup.github.io/cs228-notes/inference/variational/))\n",
    "\n",
    "Essentially, for sampling methods, you use algorithms that continually draw samples from a changing probability distribution until eventually they converge on the true posterior of interest. The time to convergence is not known ahead of time. For variational methods, you use a simpler function that can be optimized to match the true posterior using standard optimization techniques like gradient descent. \n",
    "\n",
    "Where to use what? Please have a look at the original blog post. \n",
    "\n",
    "### Variational inference 1: autodifferentiation"
   ]
  },
  {
   "cell_type": "code",
   "execution_count": null,
   "metadata": {},
   "outputs": [],
   "source": []
  }
 ],
 "metadata": {
  "kernelspec": {
   "display_name": "Python 3",
   "language": "python",
   "name": "python3"
  },
  "language_info": {
   "codemirror_mode": {
    "name": "ipython",
    "version": 3
   },
   "file_extension": ".py",
   "mimetype": "text/x-python",
   "name": "python",
   "nbconvert_exporter": "python",
   "pygments_lexer": "ipython3",
   "version": "3.7.7"
  }
 },
 "nbformat": 4,
 "nbformat_minor": 4
}
